{
  "nbformat": 4,
  "nbformat_minor": 0,
  "metadata": {
    "colab": {
      "provenance": [],
      "gpuType": "T4",
      "authorship_tag": "ABX9TyPDdV8ZBGkDyLRZoUpsaGLZ",
      "include_colab_link": true
    },
    "kernelspec": {
      "name": "python3",
      "display_name": "Python 3"
    },
    "language_info": {
      "name": "python"
    }
  },
  "cells": [
    {
      "cell_type": "markdown",
      "metadata": {
        "id": "view-in-github",
        "colab_type": "text"
      },
      "source": [
        "<a href=\"https://colab.research.google.com/github/Saiteja2k2/Gen_AI/blob/main/Gemini_API_with_Python.ipynb\" target=\"_parent\"><img src=\"https://colab.research.google.com/assets/colab-badge.svg\" alt=\"Open In Colab\"/></a>"
      ]
    },
    {
      "cell_type": "code",
      "execution_count": null,
      "metadata": {
        "id": "3UPa6ey2cHsm"
      },
      "outputs": [],
      "source": [
        "!pip install -q -U google-generativeai"
      ]
    },
    {
      "cell_type": "markdown",
      "source": [
        "## Import Packages"
      ],
      "metadata": {
        "id": "RPlByZUyfPCK"
      }
    },
    {
      "cell_type": "code",
      "source": [
        "import google.generativeai as genai\n",
        "import pathlib\n",
        "import textwrap\n",
        "from IPython.display import display\n",
        "from IPython.display import Markdown"
      ],
      "metadata": {
        "id": "JiCvb-XJfTrc"
      },
      "execution_count": 8,
      "outputs": []
    },
    {
      "cell_type": "code",
      "source": [
        "import textwrap\n",
        "from IPython.display import display, Markdown\n",
        "\n",
        "def to_markdown(text):\n",
        "  text = text.replace('*', ' *')\n",
        "  return Markdown(textwrap.indent(text, '> ', predicate=lambda line: True))\n",
        "\n",
        "\n",
        "#Example Usage\n",
        "input_text = \"This is a * sample text with bullet points.\"\n",
        "result = to_markdown(input_text)\n",
        "\n",
        "display(result)"
      ],
      "metadata": {
        "colab": {
          "base_uri": "https://localhost:8080/",
          "height": 62
        },
        "id": "pqeqBVemfywf",
        "outputId": "a62abafd-f00c-464f-a4d0-429cf16bfac4"
      },
      "execution_count": 9,
      "outputs": [
        {
          "output_type": "display_data",
          "data": {
            "text/plain": [
              "<IPython.core.display.Markdown object>"
            ],
            "text/markdown": "> This is a  * sample text with bullet points."
          },
          "metadata": {}
        }
      ]
    },
    {
      "cell_type": "markdown",
      "source": [
        "## Setup Your API Key"
      ],
      "metadata": {
        "id": "MhISUucqiqt1"
      }
    },
    {
      "cell_type": "code",
      "source": [
        "# Used to securely store your API Key\n",
        "from google.colab import userdata"
      ],
      "metadata": {
        "id": "iMU0IxfBhKYQ"
      },
      "execution_count": 10,
      "outputs": []
    },
    {
      "cell_type": "code",
      "source": [
        "GOOGLE_API_KEY = userdata.get('GOOGLE_API_KEY')"
      ],
      "metadata": {
        "id": "c3H0bhQgjVSj"
      },
      "execution_count": 11,
      "outputs": []
    },
    {
      "cell_type": "code",
      "source": [
        "genai.configure(api_key=GOOGLE_API_KEY)"
      ],
      "metadata": {
        "id": "qt7eOdv5jbhA"
      },
      "execution_count": 12,
      "outputs": []
    },
    {
      "cell_type": "code",
      "source": [
        "for models in genai.list_models():\n",
        "  print(models.name)"
      ],
      "metadata": {
        "colab": {
          "base_uri": "https://localhost:8080/",
          "height": 1000
        },
        "id": "c5SKzgu7jlxk",
        "outputId": "c973a591-eb3a-4371-b100-5a0edfa5cdc5"
      },
      "execution_count": 13,
      "outputs": [
        {
          "output_type": "stream",
          "name": "stdout",
          "text": [
            "models/embedding-gecko-001\n",
            "models/gemini-1.0-pro-vision-latest\n",
            "models/gemini-pro-vision\n",
            "models/gemini-1.5-pro-latest\n",
            "models/gemini-1.5-pro-002\n",
            "models/gemini-1.5-pro\n",
            "models/gemini-1.5-flash-latest\n",
            "models/gemini-1.5-flash\n",
            "models/gemini-1.5-flash-002\n",
            "models/gemini-1.5-flash-8b\n",
            "models/gemini-1.5-flash-8b-001\n",
            "models/gemini-1.5-flash-8b-latest\n",
            "models/gemini-2.5-pro-preview-03-25\n",
            "models/gemini-2.5-flash-preview-05-20\n",
            "models/gemini-2.5-flash\n",
            "models/gemini-2.5-flash-lite-preview-06-17\n",
            "models/gemini-2.5-pro-preview-05-06\n",
            "models/gemini-2.5-pro-preview-06-05\n",
            "models/gemini-2.5-pro\n",
            "models/gemini-2.0-flash-exp\n",
            "models/gemini-2.0-flash\n",
            "models/gemini-2.0-flash-001\n",
            "models/gemini-2.0-flash-exp-image-generation\n",
            "models/gemini-2.0-flash-lite-001\n",
            "models/gemini-2.0-flash-lite\n",
            "models/gemini-2.0-flash-preview-image-generation\n",
            "models/gemini-2.0-flash-lite-preview-02-05\n",
            "models/gemini-2.0-flash-lite-preview\n",
            "models/gemini-2.0-pro-exp\n",
            "models/gemini-2.0-pro-exp-02-05\n",
            "models/gemini-exp-1206\n",
            "models/gemini-2.0-flash-thinking-exp-01-21\n",
            "models/gemini-2.0-flash-thinking-exp\n",
            "models/gemini-2.0-flash-thinking-exp-1219\n",
            "models/gemini-2.5-flash-preview-tts\n",
            "models/gemini-2.5-pro-preview-tts\n",
            "models/learnlm-2.0-flash-experimental\n",
            "models/gemma-3-1b-it\n",
            "models/gemma-3-4b-it\n",
            "models/gemma-3-12b-it\n",
            "models/gemma-3-27b-it\n",
            "models/gemma-3n-e4b-it\n",
            "models/gemma-3n-e2b-it\n",
            "models/embedding-001\n",
            "models/text-embedding-004\n",
            "models/gemini-embedding-exp-03-07\n",
            "models/gemini-embedding-exp\n",
            "models/gemini-embedding-001\n",
            "models/aqa\n",
            "models/imagen-3.0-generate-002\n",
            "models/imagen-4.0-generate-preview-06-06\n",
            "models/imagen-4.0-ultra-generate-preview-06-06\n",
            "models/veo-2.0-generate-001\n",
            "models/gemini-2.5-flash-preview-native-audio-dialog\n",
            "models/gemini-2.5-flash-exp-native-audio-thinking-dialog\n",
            "models/gemini-2.0-flash-live-001\n",
            "models/gemini-live-2.5-flash-preview\n",
            "models/gemini-2.5-flash-live-preview\n"
          ]
        }
      ]
    },
    {
      "cell_type": "code",
      "source": [
        "for models in genai.list_models():\n",
        "  if 'generateContent' in models.supported_generation_methods:\n",
        "    print(models.name)"
      ],
      "metadata": {
        "colab": {
          "base_uri": "https://localhost:8080/",
          "height": 746
        },
        "id": "b0twYsUGkCHf",
        "outputId": "dc84260b-1eb9-494b-ea33-a5a46c870327"
      },
      "execution_count": 14,
      "outputs": [
        {
          "output_type": "stream",
          "name": "stdout",
          "text": [
            "models/gemini-1.0-pro-vision-latest\n",
            "models/gemini-pro-vision\n",
            "models/gemini-1.5-pro-latest\n",
            "models/gemini-1.5-pro-002\n",
            "models/gemini-1.5-pro\n",
            "models/gemini-1.5-flash-latest\n",
            "models/gemini-1.5-flash\n",
            "models/gemini-1.5-flash-002\n",
            "models/gemini-1.5-flash-8b\n",
            "models/gemini-1.5-flash-8b-001\n",
            "models/gemini-1.5-flash-8b-latest\n",
            "models/gemini-2.5-pro-preview-03-25\n",
            "models/gemini-2.5-flash-preview-05-20\n",
            "models/gemini-2.5-flash\n",
            "models/gemini-2.5-flash-lite-preview-06-17\n",
            "models/gemini-2.5-pro-preview-05-06\n",
            "models/gemini-2.5-pro-preview-06-05\n",
            "models/gemini-2.5-pro\n",
            "models/gemini-2.0-flash-exp\n",
            "models/gemini-2.0-flash\n",
            "models/gemini-2.0-flash-001\n",
            "models/gemini-2.0-flash-exp-image-generation\n",
            "models/gemini-2.0-flash-lite-001\n",
            "models/gemini-2.0-flash-lite\n",
            "models/gemini-2.0-flash-preview-image-generation\n",
            "models/gemini-2.0-flash-lite-preview-02-05\n",
            "models/gemini-2.0-flash-lite-preview\n",
            "models/gemini-2.0-pro-exp\n",
            "models/gemini-2.0-pro-exp-02-05\n",
            "models/gemini-exp-1206\n",
            "models/gemini-2.0-flash-thinking-exp-01-21\n",
            "models/gemini-2.0-flash-thinking-exp\n",
            "models/gemini-2.0-flash-thinking-exp-1219\n",
            "models/gemini-2.5-flash-preview-tts\n",
            "models/gemini-2.5-pro-preview-tts\n",
            "models/learnlm-2.0-flash-experimental\n",
            "models/gemma-3-1b-it\n",
            "models/gemma-3-4b-it\n",
            "models/gemma-3-12b-it\n",
            "models/gemma-3-27b-it\n",
            "models/gemma-3n-e4b-it\n",
            "models/gemma-3n-e2b-it\n"
          ]
        }
      ]
    },
    {
      "cell_type": "markdown",
      "source": [
        "## Generate text from text inputs"
      ],
      "metadata": {
        "id": "nKyHBSYPmk3r"
      }
    },
    {
      "cell_type": "code",
      "source": [
        "model = genai.GenerativeModel('gemini-1.5-flash-latest')"
      ],
      "metadata": {
        "id": "UonhKRBGmjLV"
      },
      "execution_count": 15,
      "outputs": []
    },
    {
      "cell_type": "code",
      "source": [
        "%%time\n",
        "response = model.generate_content(\"What is the meaning of life?\")"
      ],
      "metadata": {
        "colab": {
          "base_uri": "https://localhost:8080/",
          "height": 52
        },
        "id": "Hn1zUzbvmy3W",
        "outputId": "8d6a8e62-0126-43c8-e10f-06c9a8b9db53"
      },
      "execution_count": 16,
      "outputs": [
        {
          "output_type": "stream",
          "name": "stdout",
          "text": [
            "CPU times: user 49.5 ms, sys: 9.01 ms, total: 58.5 ms\n",
            "Wall time: 3.98 s\n"
          ]
        }
      ]
    },
    {
      "cell_type": "code",
      "source": [
        "response.text"
      ],
      "metadata": {
        "colab": {
          "base_uri": "https://localhost:8080/",
          "height": 123
        },
        "id": "ij8Jqmx4nAZV",
        "outputId": "5df80e75-d5b4-47af-cb6f-f51ee8e6ea2b"
      },
      "execution_count": 17,
      "outputs": [
        {
          "output_type": "execute_result",
          "data": {
            "text/plain": [
              "\"There's no single, universally accepted answer to the meaning of life.  The meaning of life is a deeply personal and philosophical question that has been pondered by humans for millennia.  Different individuals and cultures have arrived at vastly different conclusions, and often, the search for meaning itself is considered more important than finding a definitive answer.\\n\\nSome perspectives include:\\n\\n* **Nihilism:**  The belief that life is inherently meaningless.\\n* **Existentialism:** The belief that individuals create their own meaning and purpose through their choices and actions.\\n* **Absurdism:** The acceptance of the inherent conflict between the human search for meaning and the meaningless universe.\\n* **Hedonism:** The pursuit of pleasure and avoidance of pain as the primary goal of life.\\n* **Spiritual and religious beliefs:** Many religions offer answers about the meaning of life, often involving serving a higher power, following divine commandments, or achieving enlightenment.\\n* **Purpose-driven life:** Defining meaning through contributing to something larger than oneself, such as a cause, community, or family.\\n* **Self-actualization:** Focusing on personal growth, fulfilling one's potential, and achieving a sense of accomplishment.\\n\\n\\nUltimately, the meaning of life is what you make it.  It's a question that requires introspection, reflection, and a willingness to grapple with complex ideas.  There is no right or wrong answer, only your own personal understanding.\\n\""
            ],
            "application/vnd.google.colaboratory.intrinsic+json": {
              "type": "string"
            }
          },
          "metadata": {},
          "execution_count": 17
        }
      ]
    },
    {
      "cell_type": "code",
      "source": [
        "to_markdown(response.text)"
      ],
      "metadata": {
        "colab": {
          "base_uri": "https://localhost:8080/",
          "height": 342
        },
        "id": "-kc3XXVSn_7L",
        "outputId": "4b86af01-bfbd-427d-89fb-05b88cda8d6c"
      },
      "execution_count": 18,
      "outputs": [
        {
          "output_type": "execute_result",
          "data": {
            "text/plain": [
              "<IPython.core.display.Markdown object>"
            ],
            "text/markdown": "> There's no single, universally accepted answer to the meaning of life.  The meaning of life is a deeply personal and philosophical question that has been pondered by humans for millennia.  Different individuals and cultures have arrived at vastly different conclusions, and often, the search for meaning itself is considered more important than finding a definitive answer.\n> \n> Some perspectives include:\n> \n>  *  * *Nihilism: * *  The belief that life is inherently meaningless.\n>  *  * *Existentialism: * * The belief that individuals create their own meaning and purpose through their choices and actions.\n>  *  * *Absurdism: * * The acceptance of the inherent conflict between the human search for meaning and the meaningless universe.\n>  *  * *Hedonism: * * The pursuit of pleasure and avoidance of pain as the primary goal of life.\n>  *  * *Spiritual and religious beliefs: * * Many religions offer answers about the meaning of life, often involving serving a higher power, following divine commandments, or achieving enlightenment.\n>  *  * *Purpose-driven life: * * Defining meaning through contributing to something larger than oneself, such as a cause, community, or family.\n>  *  * *Self-actualization: * * Focusing on personal growth, fulfilling one's potential, and achieving a sense of accomplishment.\n> \n> \n> Ultimately, the meaning of life is what you make it.  It's a question that requires introspection, reflection, and a willingness to grapple with complex ideas.  There is no right or wrong answer, only your own personal understanding.\n"
          },
          "metadata": {},
          "execution_count": 18
        }
      ]
    },
    {
      "cell_type": "code",
      "source": [
        "response.candidates"
      ],
      "metadata": {
        "colab": {
          "base_uri": "https://localhost:8080/"
        },
        "id": "_rxewvXxoIW8",
        "outputId": "b381bb68-c292-4592-a81d-4ef8cad3ec70"
      },
      "execution_count": 19,
      "outputs": [
        {
          "output_type": "execute_result",
          "data": {
            "text/plain": [
              "[content {\n",
              "  parts {\n",
              "    text: \"There\\'s no single, universally accepted answer to the meaning of life.  The meaning of life is a deeply personal and philosophical question that has been pondered by humans for millennia.  Different individuals and cultures have arrived at vastly different conclusions, and often, the search for meaning itself is considered more important than finding a definitive answer.\\n\\nSome perspectives include:\\n\\n* **Nihilism:**  The belief that life is inherently meaningless.\\n* **Existentialism:** The belief that individuals create their own meaning and purpose through their choices and actions.\\n* **Absurdism:** The acceptance of the inherent conflict between the human search for meaning and the meaningless universe.\\n* **Hedonism:** The pursuit of pleasure and avoidance of pain as the primary goal of life.\\n* **Spiritual and religious beliefs:** Many religions offer answers about the meaning of life, often involving serving a higher power, following divine commandments, or achieving enlightenment.\\n* **Purpose-driven life:** Defining meaning through contributing to something larger than oneself, such as a cause, community, or family.\\n* **Self-actualization:** Focusing on personal growth, fulfilling one\\'s potential, and achieving a sense of accomplishment.\\n\\n\\nUltimately, the meaning of life is what you make it.  It\\'s a question that requires introspection, reflection, and a willingness to grapple with complex ideas.  There is no right or wrong answer, only your own personal understanding.\\n\"\n",
              "  }\n",
              "  role: \"model\"\n",
              "}\n",
              "finish_reason: STOP\n",
              "avg_logprobs: -0.16421081906273252\n",
              "]"
            ]
          },
          "metadata": {},
          "execution_count": 19
        }
      ]
    },
    {
      "cell_type": "code",
      "source": [
        "response.parts"
      ],
      "metadata": {
        "colab": {
          "base_uri": "https://localhost:8080/"
        },
        "id": "6iZCZ7I-oVnT",
        "outputId": "67f33357-67c5-4969-ba71-b7e751c637be"
      },
      "execution_count": 20,
      "outputs": [
        {
          "output_type": "execute_result",
          "data": {
            "text/plain": [
              "[text: \"There\\'s no single, universally accepted answer to the meaning of life.  The meaning of life is a deeply personal and philosophical question that has been pondered by humans for millennia.  Different individuals and cultures have arrived at vastly different conclusions, and often, the search for meaning itself is considered more important than finding a definitive answer.\\n\\nSome perspectives include:\\n\\n* **Nihilism:**  The belief that life is inherently meaningless.\\n* **Existentialism:** The belief that individuals create their own meaning and purpose through their choices and actions.\\n* **Absurdism:** The acceptance of the inherent conflict between the human search for meaning and the meaningless universe.\\n* **Hedonism:** The pursuit of pleasure and avoidance of pain as the primary goal of life.\\n* **Spiritual and religious beliefs:** Many religions offer answers about the meaning of life, often involving serving a higher power, following divine commandments, or achieving enlightenment.\\n* **Purpose-driven life:** Defining meaning through contributing to something larger than oneself, such as a cause, community, or family.\\n* **Self-actualization:** Focusing on personal growth, fulfilling one\\'s potential, and achieving a sense of accomplishment.\\n\\n\\nUltimately, the meaning of life is what you make it.  It\\'s a question that requires introspection, reflection, and a willingness to grapple with complex ideas.  There is no right or wrong answer, only your own personal understanding.\\n\"\n",
              "]"
            ]
          },
          "metadata": {},
          "execution_count": 20
        }
      ]
    },
    {
      "cell_type": "code",
      "source": [
        "response.prompt_feedback"
      ],
      "metadata": {
        "colab": {
          "base_uri": "https://localhost:8080/"
        },
        "id": "J1plf3X9oaOd",
        "outputId": "b0a14c76-1cba-4a4c-cdcc-ab30bd626f45"
      },
      "execution_count": 21,
      "outputs": [
        {
          "output_type": "execute_result",
          "data": {
            "text/plain": []
          },
          "metadata": {},
          "execution_count": 21
        }
      ]
    },
    {
      "cell_type": "code",
      "source": [
        "%%time\n",
        "response = model.generate_content(\"what is the meaning of life?\", stream=True)\n",
        "for chnk in response:\n",
        "  print(chnk.text)\n",
        "  print(\"_\"*80)"
      ],
      "metadata": {
        "colab": {
          "base_uri": "https://localhost:8080/",
          "height": 731
        },
        "id": "f2b0WviFojCd",
        "outputId": "8d49455e-5ded-48e3-f479-4e10f09d11ee"
      },
      "execution_count": 22,
      "outputs": [
        {
          "output_type": "stream",
          "name": "stdout",
          "text": [
            "There\n",
            "________________________________________________________________________________\n",
            "'s no single, universally accepted answer to the meaning of life.  It\n",
            "________________________________________________________________________________\n",
            "'s a question that has been pondered by philosophers, theologians, and individuals for\n",
            "________________________________________________________________________________\n",
            " millennia.  The meaning, if there is one, is often considered to be:\n",
            "\n",
            "* **Subjective:**  What gives your life meaning is likely different\n",
            "________________________________________________________________________________\n",
            " from what gives someone else's life meaning.  Your values, beliefs, experiences, and relationships all contribute to your personal definition.\n",
            "\n",
            "* **Self-\n",
            "________________________________________________________________________________\n",
            "defined:**  Many believe the meaning of life is something you create for yourself.  It's not something handed down or discovered, but rather constructed through your choices, actions, and the impact you have on the world.\n",
            "\n",
            "* **\n",
            "________________________________________________________________________________\n",
            "Evolving:** Your understanding of the meaning of life might change over time as you grow and experience different things.\n",
            "\n",
            "Some common perspectives on the meaning of life include:\n",
            "\n",
            "* **Nihilism:** The belief that life is inherently meaningless.\n",
            "________________________________________________________________________________\n",
            "\n",
            "* **Existentialism:** The belief that life is inherently meaningless, but we create our own meaning through our choices and actions.\n",
            "* **Absurdism:**  The belief that the search for meaning in a meaningless universe is inherently absurd, but we should embrace this absurdity.\n",
            "* **Hedonism\n",
            "________________________________________________________________________________\n",
            ":** The belief that pleasure and happiness are the ultimate goals of life.\n",
            "* **Spiritual/Religious beliefs:** Many religions provide answers to the meaning of life, often involving serving a higher power, following divine commandments, or achieving enlightenment.\n",
            "* **Humanism:** The belief that human values and reason are paramount, focusing\n",
            "________________________________________________________________________________\n",
            " on improving human well-being and flourishing.\n",
            "\n",
            "Ultimately, the meaning of life is a personal question with no right or wrong answer.  The journey of exploring this question is often as important as any conclusion you might reach.\n",
            "\n",
            "________________________________________________________________________________\n",
            "CPU times: user 113 ms, sys: 5.9 ms, total: 119 ms\n",
            "Wall time: 4.4 s\n"
          ]
        }
      ]
    },
    {
      "cell_type": "markdown",
      "source": [
        "## Genarate text from image and text inputs"
      ],
      "metadata": {
        "id": "DECLVD03xJv3"
      }
    },
    {
      "cell_type": "code",
      "source": [
        "!curl -o image.jpg https://encrypted-tbn0.gstatic.com/images?q=tbn:ANd9GcQNrOufjL5V60-6RJxCEWDRGjaMiB9b4viK1Q&s"
      ],
      "metadata": {
        "colab": {
          "base_uri": "https://localhost:8080/"
        },
        "id": "z8f3k2AVwtNm",
        "outputId": "93603f4f-7c73-4d6d-c1fe-c801bb149fb8"
      },
      "execution_count": 23,
      "outputs": [
        {
          "output_type": "stream",
          "name": "stdout",
          "text": [
            "/bin/bash: line 1: s: command not found\n",
            "  % Total    % Received % Xferd  Average Speed   Time    Time     Time  Current\n",
            "                                 Dload  Upload   Total   Spent    Left  Speed\n",
            "\r  0     0    0     0    0     0      0      0 --:--:-- --:--:-- --:--:--     0\r100  9021  100  9021    0     0  69157      0 --:--:-- --:--:-- --:--:-- 69392\n"
          ]
        }
      ]
    },
    {
      "cell_type": "code",
      "source": [
        "!curl -o image2.jpg https://encrypted-tbn0.gstatic.com/images?q=tbn:ANd9GcSNTA_HMOOO1F3btNoq31FSfmVCsVNDm3mNvQ&s"
      ],
      "metadata": {
        "colab": {
          "base_uri": "https://localhost:8080/"
        },
        "id": "sEpJUXBnyD6_",
        "outputId": "adebd539-e680-4448-ba23-6e9c4e5771a2"
      },
      "execution_count": 24,
      "outputs": [
        {
          "output_type": "stream",
          "name": "stdout",
          "text": [
            "/bin/bash: line 1: s: command not found\n",
            "  % Total    % Received % Xferd  Average Speed   Time    Time     Time  Current\n",
            "                                 Dload  Upload   Total   Spent    Left  Speed\n",
            "\r  0     0    0     0    0     0      0      0 --:--:-- --:--:-- --:--:--     0\r100 10771  100 10771    0     0  91829      0 --:--:-- --:--:-- --:--:-- 92059\n"
          ]
        }
      ]
    },
    {
      "cell_type": "code",
      "source": [
        "import PIL.Image\n",
        "\n",
        "img = PIL.Image.open('image.jpg')\n",
        "img"
      ],
      "metadata": {
        "colab": {
          "base_uri": "https://localhost:8080/",
          "height": 211
        },
        "id": "KmEsMxXKyPqo",
        "outputId": "7ea28548-6162-48b8-c916-402a3114f10d"
      },
      "execution_count": 25,
      "outputs": [
        {
          "output_type": "execute_result",
          "data": {
            "text/plain": [
              "<PIL.JpegImagePlugin.JpegImageFile image mode=RGB size=259x194>"
            ],
            "image/png": "[encoded data removed]",
            "image/jpeg": "[encoded data removed]"
          },
          "metadata": {},
          "execution_count": 25
        }
      ]
    },
    {
      "cell_type": "code",
      "source": [
        "import PIL.Image\n",
        "\n",
        "img = PIL.Image.open('image2.jpg')\n",
        "img"
      ],
      "metadata": {
        "colab": {
          "base_uri": "https://localhost:8080/",
          "height": 191
        },
        "id": "YwRtPLO9y0gR",
        "outputId": "eb010eda-3f95-4dbc-cdfc-04f16faade51"
      },
      "execution_count": 26,
      "outputs": [
        {
          "output_type": "execute_result",
          "data": {
            "text/plain": [
              "<PIL.JpegImagePlugin.JpegImageFile image mode=RGB size=289x174>"
            ],
            "image/png": "[encoded data removed]",
            "image/jpeg": "[encoded data removed]"
          },
          "metadata": {},
          "execution_count": 26
        }
      ]
    },
    {
      "cell_type": "code",
      "source": [
        "model2 = genai.GenerativeModel('gemini-1.5-flash')"
      ],
      "metadata": {
        "id": "kRFhmrY3y7vE"
      },
      "execution_count": 27,
      "outputs": []
    },
    {
      "cell_type": "code",
      "source": [
        "response = model2.generate_content(img)"
      ],
      "metadata": {
        "id": "MFEROyCbzePj"
      },
      "execution_count": 28,
      "outputs": []
    },
    {
      "cell_type": "code",
      "source": [
        "to_markdown(response.text)"
      ],
      "metadata": {
        "colab": {
          "base_uri": "https://localhost:8080/",
          "height": 220
        },
        "id": "fSPAnuTCziML",
        "outputId": "38d86b02-e5bb-4883-8eed-c7c44e92bd21"
      },
      "execution_count": 29,
      "outputs": [
        {
          "output_type": "execute_result",
          "data": {
            "text/plain": [
              "<IPython.core.display.Markdown object>"
            ],
            "text/markdown": "> That's a beautiful picture!  It looks like a serene mountain lake scene, possibly in the Carpathian Mountains of Eastern Europe (Romania, Ukraine, etc.) or a similar region.  The image evokes a feeling of peace and tranquility. The key features are:\n> \n>  *  * *A calm lake: * * Reflecting the surrounding mountains and sky.\n>  *  * *Dense coniferous forest: * * Primarily evergreen trees, likely spruce or fir, covering the slopes of the mountains.\n>  *  * *Misty/foggy atmosphere: * * Adding depth and mystery to the scene, particularly in the mountain valleys.\n>  *  * *A winding path: * * Inviting the viewer to explore the landscape.\n>  *  * *Soft light: * *  Suggesting either dawn or dusk, enhancing the peaceful mood.\n> \n> \n> The overall impression is one of untouched, pristine wilderness.\n"
          },
          "metadata": {},
          "execution_count": 29
        }
      ]
    },
    {
      "cell_type": "code",
      "source": [
        "response = model2.generate_content([\"write a short, engaging blog post based on this picture. It should include a desciption of the meal in the photo and talk about my journey meal prepping\", img], stream = True)"
      ],
      "metadata": {
        "id": "gPpKGhJFz5hM"
      },
      "execution_count": 30,
      "outputs": []
    },
    {
      "cell_type": "code",
      "source": [
        "response"
      ],
      "metadata": {
        "colab": {
          "base_uri": "https://localhost:8080/"
        },
        "id": "bmVoqJX81AH_",
        "outputId": "e0d7c643-71ff-4f38-cede-1a4789b2640e"
      },
      "execution_count": 31,
      "outputs": [
        {
          "output_type": "execute_result",
          "data": {
            "text/plain": [
              "response:\n",
              "GenerateContentResponse(\n",
              "    done=False,\n",
              "    iterator=<ResponseIterator>,\n",
              "    result=protos.GenerateContentResponse({\n",
              "      \"candidates\": [\n",
              "        {\n",
              "          \"content\": {\n",
              "            \"parts\": [\n",
              "              {\n",
              "                \"text\": \"Here\"\n",
              "              }\n",
              "            ],\n",
              "            \"role\": \"model\"\n",
              "          }\n",
              "        }\n",
              "      ],\n",
              "      \"usage_metadata\": {\n",
              "        \"prompt_token_count\": 291,\n",
              "        \"total_token_count\": 291\n",
              "      },\n",
              "      \"model_version\": \"gemini-1.5-flash\"\n",
              "    }),\n",
              ")"
            ]
          },
          "metadata": {},
          "execution_count": 31
        }
      ]
    },
    {
      "cell_type": "code",
      "source": [
        "response.resolve()"
      ],
      "metadata": {
        "id": "y6oJybae1KPD"
      },
      "execution_count": 32,
      "outputs": []
    },
    {
      "cell_type": "code",
      "source": [
        "response.text"
      ],
      "metadata": {
        "colab": {
          "base_uri": "https://localhost:8080/",
          "height": 123
        },
        "id": "UVYpAucG1ONQ",
        "outputId": "ab720ad9-24ae-4cdb-9728-c11b8eef75ef"
      },
      "execution_count": 33,
      "outputs": [
        {
          "output_type": "execute_result",
          "data": {
            "text/plain": [
              "\"Here's a blog post based on the image, focusing on the connection between a prepared meal and a hike in nature:\\n\\n## Mountain Views & Meal Prepped Bliss: Fueling My Adventures\\n\\nThat breathtaking view? It's my happy place.  The misty mountains mirroring themselves in the still water, the scent of pine in the air… pure serenity.  And you know what else made this hike even more perfect? My perfectly prepped lunch.\\n\\nForget soggy sandwiches and energy bar meltdowns! This time, I was prepared.  My backpack held a container brimming with vibrant quinoa salad.  Think perfectly cooked quinoa, tossed with roasted sweet potatoes, crunchy chickpeas, juicy cucumber, and a zingy lemon-herb vinaigrette.  It was packed with protein and energy, exactly what I needed to power through the trail and soak in the views.\\n\\nMy journey into meal prepping wasn't a magical overnight transformation.  There were weeks of trial and error.  Remember that time I accidentally made enough chili for a small army?  Or the sad, wilted greens that taught me the importance of proper storage?  But I persevered.\\n\\nNow, meal prepping is my secret weapon. It's not just about healthy eating; it’s about maximizing my time and energy for adventures like this hike. Spending a Sunday afternoon prepping means I can effortlessly grab a healthy, delicious meal and head straight for the trails instead of worrying about lunch logistics.  The peace of mind is invaluable.\\n\\nSo, next time you’re planning an outdoor adventure, consider meal prepping.  It’s the perfect complement to stunning scenery and the satisfaction of reaching a summit (or a tranquil lake, in my case!).  What's your go-to meal-prepped adventure food?  Share in the comments below!\\n\""
            ],
            "application/vnd.google.colaboratory.intrinsic+json": {
              "type": "string"
            }
          },
          "metadata": {},
          "execution_count": 33
        }
      ]
    },
    {
      "cell_type": "code",
      "source": [
        "to_markdown(response.text)"
      ],
      "metadata": {
        "colab": {
          "base_uri": "https://localhost:8080/",
          "height": 344
        },
        "id": "c-pDOHQE1QMX",
        "outputId": "669900ee-836e-4db1-f1f7-611d9f3feee2"
      },
      "execution_count": 34,
      "outputs": [
        {
          "output_type": "execute_result",
          "data": {
            "text/plain": [
              "<IPython.core.display.Markdown object>"
            ],
            "text/markdown": "> Here's a blog post based on the image, focusing on the connection between a prepared meal and a hike in nature:\n> \n> ## Mountain Views & Meal Prepped Bliss: Fueling My Adventures\n> \n> That breathtaking view? It's my happy place.  The misty mountains mirroring themselves in the still water, the scent of pine in the air… pure serenity.  And you know what else made this hike even more perfect? My perfectly prepped lunch.\n> \n> Forget soggy sandwiches and energy bar meltdowns! This time, I was prepared.  My backpack held a container brimming with vibrant quinoa salad.  Think perfectly cooked quinoa, tossed with roasted sweet potatoes, crunchy chickpeas, juicy cucumber, and a zingy lemon-herb vinaigrette.  It was packed with protein and energy, exactly what I needed to power through the trail and soak in the views.\n> \n> My journey into meal prepping wasn't a magical overnight transformation.  There were weeks of trial and error.  Remember that time I accidentally made enough chili for a small army?  Or the sad, wilted greens that taught me the importance of proper storage?  But I persevered.\n> \n> Now, meal prepping is my secret weapon. It's not just about healthy eating; it’s about maximizing my time and energy for adventures like this hike. Spending a Sunday afternoon prepping means I can effortlessly grab a healthy, delicious meal and head straight for the trails instead of worrying about lunch logistics.  The peace of mind is invaluable.\n> \n> So, next time you’re planning an outdoor adventure, consider meal prepping.  It’s the perfect complement to stunning scenery and the satisfaction of reaching a summit (or a tranquil lake, in my case!).  What's your go-to meal-prepped adventure food?  Share in the comments below!\n"
          },
          "metadata": {},
          "execution_count": 34
        }
      ]
    },
    {
      "cell_type": "code",
      "source": [
        "response = model2.generate_content(img)"
      ],
      "metadata": {
        "id": "41aZ_U6Z1WzR"
      },
      "execution_count": 35,
      "outputs": []
    },
    {
      "cell_type": "code",
      "source": [
        "to_markdown(response.text)"
      ],
      "metadata": {
        "colab": {
          "base_uri": "https://localhost:8080/",
          "height": 97
        },
        "id": "5C2bh5tL1g_U",
        "outputId": "da73b4aa-da95-4659-c60b-048b3173eb81"
      },
      "execution_count": 36,
      "outputs": [
        {
          "output_type": "execute_result",
          "data": {
            "text/plain": [
              "<IPython.core.display.Markdown object>"
            ],
            "text/markdown": "> That's a beautiful picture!  It appears to be a serene mountain lake scene, likely in a region with coniferous forests.  The mist rolling through the valley adds to the mystical and tranquil atmosphere.  The path leading into the scene invites the viewer to imagine a hike or stroll through this idyllic location.  The overall feeling is one of peace and natural beauty.\n"
          },
          "metadata": {},
          "execution_count": 36
        }
      ]
    },
    {
      "cell_type": "code",
      "source": [
        "response = model2.generate_content([\"write a short, engaging blog post based on this picture. It should include a desciption of the meal in the photo and talk about my journey meal prepping\", img], stream = True)"
      ],
      "metadata": {
        "id": "YdgV7Dnr1xSy"
      },
      "execution_count": 37,
      "outputs": []
    },
    {
      "cell_type": "code",
      "source": [
        "response.resolve"
      ],
      "metadata": {
        "colab": {
          "base_uri": "https://localhost:8080/",
          "height": 121
        },
        "id": "EHe9lSFr1_G9",
        "outputId": "5b07e8c1-ddda-4b64-ced8-16617862a8b2"
      },
      "execution_count": 38,
      "outputs": [
        {
          "output_type": "execute_result",
          "data": {
            "text/plain": [
              "<bound method GenerateContentResponse.resolve of response:\n",
              "GenerateContentResponse(\n",
              "    done=False,\n",
              "    iterator=<ResponseIterator>,\n",
              "    result=protos.GenerateContentResponse({\n",
              "      \"candidates\": [\n",
              "        {\n",
              "          \"content\": {\n",
              "            \"parts\": [\n",
              "              {\n",
              "                \"text\": \"##\"\n",
              "              }\n",
              "            ],\n",
              "            \"role\": \"model\"\n",
              "          }\n",
              "        }\n",
              "      ],\n",
              "      \"usage_metadata\": {\n",
              "        \"prompt_token_count\": 291,\n",
              "        \"total_token_count\": 291\n",
              "      },\n",
              "      \"model_version\": \"gemini-1.5-flash\"\n",
              "    }),\n",
              ")>"
            ],
            "text/html": [
              "<div style=\"max-width:800px; border: 1px solid var(--colab-border-color);\"><style>\n",
              "      pre.function-repr-contents {\n",
              "        overflow-x: auto;\n",
              "        padding: 8px 12px;\n",
              "        max-height: 500px;\n",
              "      }\n",
              "\n",
              "      pre.function-repr-contents.function-repr-contents-collapsed {\n",
              "        cursor: pointer;\n",
              "        max-height: 100px;\n",
              "      }\n",
              "    </style>\n",
              "    <pre style=\"white-space: initial; background:\n",
              "         var(--colab-secondary-surface-color); padding: 8px 12px;\n",
              "         border-bottom: 1px solid var(--colab-border-color);\"><b>google.generativeai.types.generation_types.GenerateContentResponse.resolve</b><br/>def resolve()</pre><pre class=\"function-repr-contents function-repr-contents-collapsed\" style=\"\"><a class=\"filepath\" style=\"display:none\" href=\"#\">/usr/local/lib/python3.11/dist-packages/google/generativeai/types/generation_types.py</a>&lt;no docstring&gt;</pre>\n",
              "      <script>\n",
              "      if (google.colab.kernel.accessAllowed && google.colab.files && google.colab.files.view) {\n",
              "        for (const element of document.querySelectorAll('.filepath')) {\n",
              "          element.style.display = 'block'\n",
              "          element.onclick = (event) => {\n",
              "            event.preventDefault();\n",
              "            event.stopPropagation();\n",
              "            google.colab.files.view(element.textContent, 687);\n",
              "          };\n",
              "        }\n",
              "      }\n",
              "      for (const element of document.querySelectorAll('.function-repr-contents')) {\n",
              "        element.onclick = (event) => {\n",
              "          event.preventDefault();\n",
              "          event.stopPropagation();\n",
              "          element.classList.toggle('function-repr-contents-collapsed');\n",
              "        };\n",
              "      }\n",
              "      </script>\n",
              "      </div>"
            ]
          },
          "metadata": {},
          "execution_count": 38
        }
      ]
    },
    {
      "cell_type": "markdown",
      "source": [
        "## Generation Configuration"
      ],
      "metadata": {
        "id": "KXBoJOVnKb7V"
      }
    },
    {
      "cell_type": "code",
      "source": [
        "import google.generativeai as genai\n",
        "model = genai.GenerativeModel('gemini-1.5-flash-latest')"
      ],
      "metadata": {
        "id": "WLe8JAOn2aQf"
      },
      "execution_count": 39,
      "outputs": []
    },
    {
      "cell_type": "code",
      "source": [
        "model.generate_content(\"Tell me the story about the avengers.\").text"
      ],
      "metadata": {
        "colab": {
          "base_uri": "https://localhost:8080/",
          "height": 123
        },
        "id": "87_C_qZuK0Jq",
        "outputId": "0e064442-261a-45a4-a703-cd9d6f4b18cb"
      },
      "execution_count": 40,
      "outputs": [
        {
          "output_type": "execute_result",
          "data": {
            "text/plain": [
              "\"The Avengers' story is complex and spans multiple films, but here's a condensed version focusing on the major plot points:\\n\\nIt begins with individual heroes facing threats too large for them to handle alone.  **Iron Man (Tony Stark)**, a genius billionaire, builds a powerful suit of armor and battles terrorism. **Captain America (Steve Rogers)**, a super-soldier from WWII, is thawed out in the modern era. **Thor**, the Asgardian God of Thunder, is banished to Earth. **The Hulk (Bruce Banner)**, a scientist who transforms into a raging monster, struggles to control his power. **Black Widow (Natasha Romanoff)** and **Hawkeye (Clint Barton)**, highly skilled spies, operate in the shadows.\\n\\n**Nick Fury**, director of the peacekeeping organization S.H.I.E.L.D., recognizes the growing threat of powerful entities like Loki, Thor's adopted brother, and the looming threat of alien invasions. He initiates the Avengers Initiative, assembling these individuals into a team.\\n\\nLoki, seeking to conquer Earth, uses the Tesseract (a powerful energy source) to open a portal and unleash an alien army, the Chitauri, upon New York City.  The Avengers, initially clashing due to differing personalities and methods, are forced to work together to save the city.  Their combined powers ultimately defeat Loki and his army, though at great cost, signifying their true potential as a team.\\n\\nThe team faces further challenges in subsequent films.  They grapple with internal conflicts, personal demons, and increasingly powerful threats like Ultron, an artificial intelligence created by Tony Stark that threatens to destroy humanity; Thanos, a cosmic being aiming to wipe out half of all life in the universe; and various other villains and interdimensional conflicts.\\n\\nThroughout their battles, the Avengers suffer losses, both in terms of allies and their own well-being. They witness the consequences of their actions, face moral dilemmas, and wrestle with the burden of saving the world.  They experience personal growth and evolve as individuals and as a team.  Their story highlights the complexities of heroism, the importance of sacrifice, and the power of unity in the face of overwhelming odds.\\n\\nThe Avengers saga culminates in a battle against Thanos, where they suffer heavy losses, culminating in the tragic deaths of some core members.  While eventually the universe is restored from Thanos' destructive actions, the Avengers are left significantly changed.  Many retire or move on to new chapters, highlighting the ending of an era for these incredible heroes.\\n\""
            ],
            "application/vnd.google.colaboratory.intrinsic+json": {
              "type": "string"
            }
          },
          "metadata": {},
          "execution_count": 40
        }
      ]
    },
    {
      "cell_type": "code",
      "source": [
        "response = model.generate_content(\n",
        "    \"tell me the story about the avengers.\",\n",
        "    generation_config=genai.types.GenerationConfig(\n",
        "        # only one candidate for now\n",
        "        candidate_count=1,\n",
        "        stop_sequences=[\"x\"],\n",
        "        max_output_tokens=50,\n",
        "        temperature=1.0)\n",
        "    )"
      ],
      "metadata": {
        "id": "_AMh0XysLKtm"
      },
      "execution_count": 43,
      "outputs": []
    },
    {
      "cell_type": "code",
      "source": [
        "response"
      ],
      "metadata": {
        "colab": {
          "base_uri": "https://localhost:8080/"
        },
        "id": "phqqMQdYNSsJ",
        "outputId": "aa620004-c18d-4d32-f2e7-d8a092bc31da"
      },
      "execution_count": 44,
      "outputs": [
        {
          "output_type": "execute_result",
          "data": {
            "text/plain": [
              "response:\n",
              "GenerateContentResponse(\n",
              "    done=True,\n",
              "    iterator=None,\n",
              "    result=protos.GenerateContentResponse({\n",
              "      \"candidates\": [\n",
              "        {\n",
              "          \"content\": {\n",
              "            \"parts\": [\n",
              "              {\n",
              "                \"text\": \"The Avengers' story is a sprawling saga, but here's a condensed version highlighting the major plot points:\\n\\nIt begins with individual heroes operating independently:  Iron Man (Tony Stark), a genius billionaire playboy who builds a powerful suit of armor;\"\n",
              "              }\n",
              "            ],\n",
              "            \"role\": \"model\"\n",
              "          },\n",
              "          \"finish_reason\": \"MAX_TOKENS\",\n",
              "          \"avg_logprobs\": -0.23963050842285155\n",
              "        }\n",
              "      ],\n",
              "      \"usage_metadata\": {\n",
              "        \"prompt_token_count\": 8,\n",
              "        \"candidates_token_count\": 50,\n",
              "        \"total_token_count\": 58\n",
              "      },\n",
              "      \"model_version\": \"gemini-1.5-flash-latest\"\n",
              "    }),\n",
              ")"
            ]
          },
          "metadata": {},
          "execution_count": 44
        }
      ]
    },
    {
      "cell_type": "code",
      "source": [
        "response.parts"
      ],
      "metadata": {
        "colab": {
          "base_uri": "https://localhost:8080/"
        },
        "id": "_k3X-08qOkzW",
        "outputId": "0b7af7e8-6bc1-4d93-c046-7596ab6b48e8"
      },
      "execution_count": 45,
      "outputs": [
        {
          "output_type": "execute_result",
          "data": {
            "text/plain": [
              "[text: \"The Avengers\\' story is a sprawling saga, but here\\'s a condensed version highlighting the major plot points:\\n\\nIt begins with individual heroes operating independently:  Iron Man (Tony Stark), a genius billionaire playboy who builds a powerful suit of armor;\"\n",
              "]"
            ]
          },
          "metadata": {},
          "execution_count": 45
        }
      ]
    },
    {
      "cell_type": "code",
      "source": [
        "response.candidates"
      ],
      "metadata": {
        "colab": {
          "base_uri": "https://localhost:8080/"
        },
        "id": "Kescu6sUOqgN",
        "outputId": "c993311a-c53e-4951-f6ee-733dd74f8c2e"
      },
      "execution_count": 46,
      "outputs": [
        {
          "output_type": "execute_result",
          "data": {
            "text/plain": [
              "[content {\n",
              "  parts {\n",
              "    text: \"The Avengers\\' story is a sprawling saga, but here\\'s a condensed version highlighting the major plot points:\\n\\nIt begins with individual heroes operating independently:  Iron Man (Tony Stark), a genius billionaire playboy who builds a powerful suit of armor;\"\n",
              "  }\n",
              "  role: \"model\"\n",
              "}\n",
              "finish_reason: MAX_TOKENS\n",
              "avg_logprobs: -0.23963050842285155\n",
              "]"
            ]
          },
          "metadata": {},
          "execution_count": 46
        }
      ]
    },
    {
      "cell_type": "markdown",
      "source": [
        "## Chat Conversations"
      ],
      "metadata": {
        "id": "Qozi5RY9RZW7"
      }
    },
    {
      "cell_type": "code",
      "source": [
        "model"
      ],
      "metadata": {
        "colab": {
          "base_uri": "https://localhost:8080/"
        },
        "id": "B60D_7t5OxYj",
        "outputId": "b8362d29-d47c-42dc-c2a4-e56ba8c2494a"
      },
      "execution_count": 47,
      "outputs": [
        {
          "output_type": "execute_result",
          "data": {
            "text/plain": [
              "genai.GenerativeModel(\n",
              "    model_name='models/gemini-1.5-flash-latest',\n",
              "    generation_config={},\n",
              "    safety_settings={},\n",
              "    tools=None,\n",
              "    system_instruction=None,\n",
              "    cached_content=None\n",
              ")"
            ]
          },
          "metadata": {},
          "execution_count": 47
        }
      ]
    },
    {
      "cell_type": "code",
      "source": [
        "chat=model.start_chat(history=[])"
      ],
      "metadata": {
        "id": "Nh70WFn6RjNR"
      },
      "execution_count": 48,
      "outputs": []
    },
    {
      "cell_type": "code",
      "source": [
        "chat"
      ],
      "metadata": {
        "colab": {
          "base_uri": "https://localhost:8080/"
        },
        "id": "uPK-yaAqRr1G",
        "outputId": "01fb179f-e38f-4700-b21a-c71386935d0d"
      },
      "execution_count": 49,
      "outputs": [
        {
          "output_type": "execute_result",
          "data": {
            "text/plain": [
              "ChatSession(\n",
              "    model=genai.GenerativeModel(\n",
              "        model_name='models/gemini-1.5-flash-latest',\n",
              "        generation_config={},\n",
              "        safety_settings={},\n",
              "        tools=None,\n",
              "        system_instruction=None,\n",
              "        cached_content=None\n",
              "    ),\n",
              "    history=[]\n",
              ")"
            ]
          },
          "metadata": {},
          "execution_count": 49
        }
      ]
    },
    {
      "cell_type": "code",
      "source": [
        "response = chat.send_message(\"In one sentence, explain how a computer works to a young child.\")"
      ],
      "metadata": {
        "id": "vm2SzR0hRtUP"
      },
      "execution_count": 50,
      "outputs": []
    },
    {
      "cell_type": "code",
      "source": [
        "response.text"
      ],
      "metadata": {
        "colab": {
          "base_uri": "https://localhost:8080/",
          "height": 36
        },
        "id": "dmHepY0tSFXQ",
        "outputId": "63b8f431-78e7-41b1-cfd3-a283408f2ea8"
      },
      "execution_count": 51,
      "outputs": [
        {
          "output_type": "execute_result",
          "data": {
            "text/plain": [
              "'A computer follows instructions, like a recipe, to do things with numbers and pictures, showing you the results on the screen.\\n'"
            ],
            "application/vnd.google.colaboratory.intrinsic+json": {
              "type": "string"
            }
          },
          "metadata": {},
          "execution_count": 51
        }
      ]
    },
    {
      "cell_type": "code",
      "source": [
        "chat.history"
      ],
      "metadata": {
        "colab": {
          "base_uri": "https://localhost:8080/"
        },
        "id": "ziRVMIjUSHVY",
        "outputId": "e0009f82-d67a-41e5-fc4c-f1ca69e8c787"
      },
      "execution_count": 52,
      "outputs": [
        {
          "output_type": "execute_result",
          "data": {
            "text/plain": [
              "[parts {\n",
              "   text: \"In one sentence, explain how a computer works to a young child.\"\n",
              " }\n",
              " role: \"user\",\n",
              " parts {\n",
              "   text: \"A computer follows instructions, like a recipe, to do things with numbers and pictures, showing you the results on the screen.\\n\"\n",
              " }\n",
              " role: \"model\"]"
            ]
          },
          "metadata": {},
          "execution_count": 52
        }
      ]
    },
    {
      "cell_type": "code",
      "source": [
        "response = chat.send_message(\"okay, how about a more detailed explanation to a high school guy ?\", stream = True)"
      ],
      "metadata": {
        "id": "nbaAjp16SRHC"
      },
      "execution_count": 53,
      "outputs": []
    },
    {
      "cell_type": "code",
      "source": [
        "for chunk in response:\n",
        "  print(chunk.text)\n",
        "  print(\"_\"*80)"
      ],
      "metadata": {
        "colab": {
          "base_uri": "https://localhost:8080/"
        },
        "id": "xOmLZ6X2S83B",
        "outputId": "42164357-53d5-4b73-9b7b-c1a49a6ed506"
      },
      "execution_count": 55,
      "outputs": [
        {
          "output_type": "stream",
          "name": "stdout",
          "text": [
            "A\n",
            "________________________________________________________________________________\n",
            " computer operates by executing a sequence of instructions, a program, written in a language\n",
            "________________________________________________________________________________\n",
            " it understands.  These instructions manipulate binary data (1s and 0s\n",
            "________________________________________________________________________________\n",
            ") representing information, performing calculations,  managing memory, and interacting with hardware components like the CPU, RAM, and storage devices, ultimately producing outputs like text,\n",
            "________________________________________________________________________________\n",
            " images, or sounds based on the program's logic.\n",
            "\n",
            "________________________________________________________________________________\n"
          ]
        }
      ]
    },
    {
      "cell_type": "code",
      "source": [
        "chat.history"
      ],
      "metadata": {
        "colab": {
          "base_uri": "https://localhost:8080/"
        },
        "id": "Y443UpKrTBAp",
        "outputId": "e461bf6e-853d-441a-ee4a-cca97737a58f"
      },
      "execution_count": 56,
      "outputs": [
        {
          "output_type": "execute_result",
          "data": {
            "text/plain": [
              "[parts {\n",
              "   text: \"In one sentence, explain how a computer works to a young child.\"\n",
              " }\n",
              " role: \"user\",\n",
              " parts {\n",
              "   text: \"A computer follows instructions, like a recipe, to do things with numbers and pictures, showing you the results on the screen.\\n\"\n",
              " }\n",
              " role: \"model\",\n",
              " parts {\n",
              "   text: \"okay, how about a more detailed explanation to a high school guy ?\"\n",
              " }\n",
              " role: \"user\",\n",
              " parts {\n",
              "   text: \"A computer operates by executing a sequence of instructions, a program, written in a language it understands.  These instructions manipulate binary data (1s and 0s) representing information, performing calculations,  managing memory, and interacting with hardware components like the CPU, RAM, and storage devices, ultimately producing outputs like text, images, or sounds based on the program\\'s logic.\\n\"\n",
              " }\n",
              " role: \"model\"]"
            ]
          },
          "metadata": {},
          "execution_count": 56
        }
      ]
    },
    {
      "cell_type": "code",
      "source": [
        "for message in chat.history:\n",
        "  display(to_markdown(f'**{message.role}**: {message.parts[0].text}'))"
      ],
      "metadata": {
        "colab": {
          "base_uri": "https://localhost:8080/",
          "height": 191
        },
        "id": "29dKADLPTltZ",
        "outputId": "8cad5df7-1b35-4b7f-a0bf-882afbc907c0"
      },
      "execution_count": 57,
      "outputs": [
        {
          "output_type": "display_data",
          "data": {
            "text/plain": [
              "<IPython.core.display.Markdown object>"
            ],
            "text/markdown": ">  * *user * *: In one sentence, explain how a computer works to a young child."
          },
          "metadata": {}
        },
        {
          "output_type": "display_data",
          "data": {
            "text/plain": [
              "<IPython.core.display.Markdown object>"
            ],
            "text/markdown": ">  * *model * *: A computer follows instructions, like a recipe, to do things with numbers and pictures, showing you the results on the screen.\n"
          },
          "metadata": {}
        },
        {
          "output_type": "display_data",
          "data": {
            "text/plain": [
              "<IPython.core.display.Markdown object>"
            ],
            "text/markdown": ">  * *user * *: okay, how about a more detailed explanation to a high school guy ?"
          },
          "metadata": {}
        },
        {
          "output_type": "display_data",
          "data": {
            "text/plain": [
              "<IPython.core.display.Markdown object>"
            ],
            "text/markdown": ">  * *model * *: A computer operates by executing a sequence of instructions, a program, written in a language it understands.  These instructions manipulate binary data (1s and 0s) representing information, performing calculations,  managing memory, and interacting with hardware components like the CPU, RAM, and storage devices, ultimately producing outputs like text, images, or sounds based on the program's logic.\n"
          },
          "metadata": {}
        }
      ]
    },
    {
      "cell_type": "markdown",
      "source": [
        "## Count Tokens"
      ],
      "metadata": {
        "id": "Gaw-byHNUtCy"
      }
    },
    {
      "cell_type": "code",
      "source": [
        "model.count_tokens(\"Tell me the story about the avengers.\")"
      ],
      "metadata": {
        "colab": {
          "base_uri": "https://localhost:8080/",
          "height": 34
        },
        "id": "2jaAZveoUF8u",
        "outputId": "f9d3808a-acb9-4a92-d275-c94ddcc6bd4e"
      },
      "execution_count": 58,
      "outputs": [
        {
          "output_type": "execute_result",
          "data": {
            "text/plain": [
              "total_tokens: 8"
            ]
          },
          "metadata": {},
          "execution_count": 58
        }
      ]
    },
    {
      "cell_type": "markdown",
      "source": [
        "## Use Embeddings"
      ],
      "metadata": {
        "id": "JeY79yDEWUsS"
      }
    },
    {
      "cell_type": "code",
      "source": [
        "result=genai.embed_content(\n",
        "      model=\"models/embedding-001\",\n",
        "      content=\"what is the meaning of life?\",\n",
        "      task_type=\"retrieval_document\",\n",
        "      title= \"Embedding of single string\")"
      ],
      "metadata": {
        "id": "Qqn_nYNCsMY0"
      },
      "execution_count": 61,
      "outputs": []
    },
    {
      "cell_type": "code",
      "source": [
        "result[\"embedding\"]"
      ],
      "metadata": {
        "colab": {
          "base_uri": "https://localhost:8080/"
        },
        "id": "Ir8zQ6ZgsyA_",
        "outputId": "143b335a-770f-45b0-cd80-4c21ce529451"
      },
      "execution_count": 62,
      "outputs": [
        {
          "output_type": "execute_result",
          "data": {
            "text/plain": [
              "[-0.0036310744,\n",
              " -0.00824178,\n",
              " -0.012047109,\n",
              " -0.011627319,\n",
              " 0.03996767,\n",
              " -0.0032248567,\n",
              " 0.043366544,\n",
              " -0.0056415848,\n",
              " -0.022208955,\n",
              " 0.010402389,\n",
              " -0.01879696,\n",
              " 0.009925378,\n",
              " -0.0096065225,\n",
              " -0.04170966,\n",
              " -0.010833362,\n",
              " -0.0348753,\n",
              " 0.044548534,\n",
              " -0.01015666,\n",
              " -0.015607428,\n",
              " -0.031318396,\n",
              " -0.023033744,\n",
              " -0.025758078,\n",
              " 0.028949315,\n",
              " 0.011500273,\n",
              " -0.01395822,\n",
              " -0.01966868,\n",
              " 0.042804133,\n",
              " -0.048748918,\n",
              " -0.017097363,\n",
              " 0.02860097,\n",
              " -0.026431294,\n",
              " 0.011412551,\n",
              " -0.06563478,\n",
              " -0.01598247,\n",
              " 0.038813967,\n",
              " -0.041850284,\n",
              " 0.020922475,\n",
              " -0.035758566,\n",
              " -0.07367805,\n",
              " 0.006389852,\n",
              " 0.04936202,\n",
              " -0.04446497,\n",
              " -0.034664247,\n",
              " -0.043902393,\n",
              " 0.0137320645,\n",
              " 0.017124362,\n",
              " -0.021154057,\n",
              " 0.04957048,\n",
              " 0.016616145,\n",
              " -0.11614623,\n",
              " 0.020631077,\n",
              " 0.02526183,\n",
              " 0.11279197,\n",
              " -0.026374385,\n",
              " -0.019657375,\n",
              " -0.016760418,\n",
              " 0.053465396,\n",
              " 0.009987785,\n",
              " -0.017536616,\n",
              " -0.017459184,\n",
              " 0.0121323345,\n",
              " -0.011490996,\n",
              " -0.0011164943,\n",
              " 0.041876268,\n",
              " -0.010282344,\n",
              " -0.03629092,\n",
              " -0.012836282,\n",
              " 0.04208976,\n",
              " 0.04368351,\n",
              " -0.011700404,\n",
              " 0.013389842,\n",
              " -0.009720713,\n",
              " 0.017941982,\n",
              " 0.0037526048,\n",
              " -0.01067412,\n",
              " -0.07768304,\n",
              " 0.010114972,\n",
              " 0.032817945,\n",
              " -0.003707582,\n",
              " 0.009308957,\n",
              " -0.0015988603,\n",
              " -0.016683452,\n",
              " -0.034951977,\n",
              " -0.03144549,\n",
              " -0.073282026,\n",
              " 0.030144662,\n",
              " -0.052802224,\n",
              " -0.009907023,\n",
              " -0.024417624,\n",
              " 0.028149068,\n",
              " 0.0123357745,\n",
              " -0.035640616,\n",
              " 0.00010255413,\n",
              " -0.05855814,\n",
              " -0.0016723166,\n",
              " 0.057341166,\n",
              " -0.021181434,\n",
              " -0.018120147,\n",
              " 0.038890354,\n",
              " 0.012120635,\n",
              " 0.018608807,\n",
              " -0.01604658,\n",
              " -0.061742794,\n",
              " 0.045319725,\n",
              " 0.0043739225,\n",
              " -0.0101603065,\n",
              " 0.039980825,\n",
              " 0.08835497,\n",
              " 0.03423846,\n",
              " 0.07600838,\n",
              " -9.356778e-05,\n",
              " -0.05404866,\n",
              " -0.011747333,\n",
              " 0.019104045,\n",
              " 0.019445695,\n",
              " -0.0007998579,\n",
              " 0.016494088,\n",
              " 0.019877438,\n",
              " 0.028503954,\n",
              " 0.0019792176,\n",
              " 0.025888406,\n",
              " 0.027653206,\n",
              " 0.107221514,\n",
              " -0.02723316,\n",
              " 0.00561405,\n",
              " 0.04680206,\n",
              " -0.014219538,\n",
              " 0.007598835,\n",
              " 0.037035666,\n",
              " 0.028942775,\n",
              " 0.0003917683,\n",
              " -0.04540936,\n",
              " 0.024092898,\n",
              " 0.026717627,\n",
              " 0.08607887,\n",
              " 0.11279785,\n",
              " 0.014599202,\n",
              " 0.020777699,\n",
              " 0.026413534,\n",
              " 0.041466273,\n",
              " -0.017415067,\n",
              " 0.07289304,\n",
              " 0.049376387,\n",
              " 0.07339184,\n",
              " -0.053788565,\n",
              " 0.028760577,\n",
              " -0.03436621,\n",
              " -0.026656926,\n",
              " 0.036099847,\n",
              " -0.038864754,\n",
              " -0.041808777,\n",
              " 0.019320635,\n",
              " -0.12731342,\n",
              " -0.0032681692,\n",
              " 0.060796577,\n",
              " 0.0104026515,\n",
              " -0.00045089002,\n",
              " 0.063025735,\n",
              " -0.030035336,\n",
              " 0.009779378,\n",
              " 0.02668234,\n",
              " -0.0077499044,\n",
              " -0.022823304,\n",
              " 0.051966053,\n",
              " 0.043833558,\n",
              " 0.001956116,\n",
              " -0.021238152,\n",
              " -0.04322692,\n",
              " 0.004692556,\n",
              " 0.019058827,\n",
              " -0.00416998,\n",
              " 0.044898104,\n",
              " -0.06928696,\n",
              " -0.03580385,\n",
              " -0.01495047,\n",
              " -0.058556493,\n",
              " -0.023623988,\n",
              " 0.025853533,\n",
              " -0.010655174,\n",
              " -0.00073851674,\n",
              " -0.0045717247,\n",
              " -0.04361927,\n",
              " -0.039499927,\n",
              " 0.0037300016,\n",
              " 0.04169577,\n",
              " -0.013054026,\n",
              " 0.036594104,\n",
              " -0.06797115,\n",
              " -0.024421744,\n",
              " -0.0114311995,\n",
              " -0.039010298,\n",
              " 0.0067117047,\n",
              " -0.025672566,\n",
              " -0.0069132894,\n",
              " -0.014671855,\n",
              " 0.0042035314,\n",
              " 0.012649215,\n",
              " 0.03692619,\n",
              " 0.05827503,\n",
              " -0.01294196,\n",
              " -0.010502154,\n",
              " 0.07019783,\n",
              " 0.02734831,\n",
              " -0.007746807,\n",
              " -0.00086015416,\n",
              " -0.0126314955,\n",
              " 0.026635459,\n",
              " -0.03709476,\n",
              " -0.054104242,\n",
              " 0.04544685,\n",
              " -0.020378157,\n",
              " -0.006368626,\n",
              " 0.028795332,\n",
              " 0.04418711,\n",
              " 0.03706967,\n",
              " -0.010153509,\n",
              " -0.0142101245,\n",
              " 0.00704029,\n",
              " 0.015886666,\n",
              " -0.034029145,\n",
              " 0.017675985,\n",
              " 0.0027051666,\n",
              " -0.029348318,\n",
              " -0.00065195124,\n",
              " 0.03025579,\n",
              " 0.038949847,\n",
              " -0.01398418,\n",
              " 0.036902174,\n",
              " 0.027708877,\n",
              " -0.02766092,\n",
              " -0.0025682382,\n",
              " 0.07038759,\n",
              " 0.04509637,\n",
              " -0.020844968,\n",
              " 0.020718014,\n",
              " -0.04505768,\n",
              " 0.05447479,\n",
              " 0.050285194,\n",
              " -0.0072121155,\n",
              " 0.017365035,\n",
              " -0.023744902,\n",
              " 0.008363895,\n",
              " 0.030767754,\n",
              " 0.034748655,\n",
              " -0.051321063,\n",
              " -0.045392103,\n",
              " -0.030236637,\n",
              " 0.057319377,\n",
              " -0.0047117136,\n",
              " 0.022883931,\n",
              " -0.0075001377,\n",
              " -0.020873863,\n",
              " -0.024903597,\n",
              " 0.06440181,\n",
              " -0.022246018,\n",
              " 0.02262771,\n",
              " -0.03281596,\n",
              " 0.002095767,\n",
              " -0.01788923,\n",
              " 0.034144286,\n",
              " 0.07820973,\n",
              " 0.029091977,\n",
              " 0.037533186,\n",
              " -0.023121707,\n",
              " -0.036266923,\n",
              " -0.031150285,\n",
              " 0.01155662,\n",
              " -0.072326645,\n",
              " 0.019836389,\n",
              " 0.004760643,\n",
              " 0.0035201265,\n",
              " 0.0061530373,\n",
              " 0.0051934,\n",
              " -0.027905302,\n",
              " -0.037179843,\n",
              " 0.0020692605,\n",
              " -0.02514228,\n",
              " 0.04332488,\n",
              " -0.0017538331,\n",
              " -0.03514033,\n",
              " 0.025596732,\n",
              " 0.015668554,\n",
              " -0.026957082,\n",
              " -0.03361,\n",
              " 0.00248597,\n",
              " 0.020015799,\n",
              " -0.04468415,\n",
              " -0.025162907,\n",
              " 0.01438915,\n",
              " -0.057453677,\n",
              " -0.010344412,\n",
              " -0.011886475,\n",
              " -0.028563906,\n",
              " -0.049093317,\n",
              " -0.037044104,\n",
              " -0.005189509,\n",
              " -0.0026545534,\n",
              " 0.076349445,\n",
              " 0.045947988,\n",
              " 0.016188776,\n",
              " -0.025492644,\n",
              " -0.06798828,\n",
              " -0.0019384105,\n",
              " -0.08157164,\n",
              " 0.008845263,\n",
              " 0.010256605,\n",
              " 0.009497955,\n",
              " -0.04797538,\n",
              " -0.036441762,\n",
              " 0.013446817,\n",
              " -0.014404824,\n",
              " -0.00833475,\n",
              " -0.03238417,\n",
              " 0.0036994678,\n",
              " 0.016464496,\n",
              " 0.025473764,\n",
              " -0.0027508836,\n",
              " 0.051693276,\n",
              " -0.020666214,\n",
              " 0.059083533,\n",
              " -0.024950633,\n",
              " 0.09103439,\n",
              " 0.027961152,\n",
              " 0.020141253,\n",
              " -0.047071815,\n",
              " 0.011194772,\n",
              " -0.025927434,\n",
              " 0.06632926,\n",
              " 0.03198263,\n",
              " 0.018065153,\n",
              " -0.013957815,\n",
              " -0.06543147,\n",
              " -0.023160165,\n",
              " 0.011270708,\n",
              " 0.024349336,\n",
              " 0.06471975,\n",
              " -0.04993725,\n",
              " 0.000101426675,\n",
              " -0.044808436,\n",
              " -0.02043112,\n",
              " 0.005691599,\n",
              " 0.042368405,\n",
              " -0.02374607,\n",
              " -0.04419307,\n",
              " 0.027070083,\n",
              " -0.053522073,\n",
              " -0.051758926,\n",
              " 0.016003245,\n",
              " 0.08331018,\n",
              " -0.006804694,\n",
              " 0.044302285,\n",
              " 0.05748444,\n",
              " -0.017154459,\n",
              " 0.01501367,\n",
              " 0.03861676,\n",
              " -0.03146914,\n",
              " 0.054595612,\n",
              " -0.033505127,\n",
              " 0.02922389,\n",
              " -0.015322644,\n",
              " -0.008329743,\n",
              " 0.031026078,\n",
              " 0.014651703,\n",
              " -0.03322991,\n",
              " 0.026510853,\n",
              " 0.007170205,\n",
              " -0.04269971,\n",
              " 0.041966587,\n",
              " -0.011169879,\n",
              " 0.01222653,\n",
              " 0.0062748482,\n",
              " -0.029701523,\n",
              " 0.031760734,\n",
              " -0.03416426,\n",
              " 0.023595411,\n",
              " 0.00041331598,\n",
              " -0.03153706,\n",
              " -0.011970348,\n",
              " 0.049962286,\n",
              " -0.011966083,\n",
              " -0.05366961,\n",
              " -0.010264433,\n",
              " 0.046398327,\n",
              " 0.008794823,\n",
              " 0.0016109145,\n",
              " -0.034133013,\n",
              " 0.016841633,\n",
              " 0.035861105,\n",
              " -0.010876836,\n",
              " 0.03956249,\n",
              " 0.019448712,\n",
              " 0.011708688,\n",
              " 0.04643072,\n",
              " 0.009674607,\n",
              " 0.04843825,\n",
              " 0.008577715,\n",
              " 0.042682245,\n",
              " -0.021696843,\n",
              " 0.018868782,\n",
              " -0.01014646,\n",
              " -0.033590604,\n",
              " -0.008661528,\n",
              " -0.041508194,\n",
              " 0.0059509007,\n",
              " -0.011680134,\n",
              " -0.010606358,\n",
              " -0.012787735,\n",
              " 0.0041001956,\n",
              " 0.0055271545,\n",
              " -0.005184169,\n",
              " 0.011248743,\n",
              " 0.00529582,\n",
              " -0.013020243,\n",
              " -0.041805733,\n",
              " -0.039495647,\n",
              " 0.008717375,\n",
              " 0.024190128,\n",
              " -0.0027983969,\n",
              " -0.0022233063,\n",
              " 0.039304387,\n",
              " -0.050138712,\n",
              " -0.01246163,\n",
              " 0.011328424,\n",
              " -0.0145451175,\n",
              " -0.04793769,\n",
              " -0.026297776,\n",
              " 0.040297717,\n",
              " -0.016773138,\n",
              " 0.025223477,\n",
              " -0.008651584,\n",
              " 0.07436091,\n",
              " 0.0011071565,\n",
              " 0.029922882,\n",
              " 0.0068918318,\n",
              " 0.008245565,\n",
              " -0.039132267,\n",
              " 0.024719324,\n",
              " 0.02316237,\n",
              " -0.012487739,\n",
              " -0.033874948,\n",
              " 0.019728905,\n",
              " 0.0072710095,\n",
              " 0.033039156,\n",
              " -0.013611085,\n",
              " -0.03260939,\n",
              " 0.016046723,\n",
              " -0.006324054,\n",
              " -0.018890794,\n",
              " 0.018714033,\n",
              " -0.1108828,\n",
              " 0.018823631,\n",
              " -0.029170897,\n",
              " -0.007838452,\n",
              " -0.04892466,\n",
              " -0.03971225,\n",
              " -0.031157803,\n",
              " -0.0016241214,\n",
              " 0.07315216,\n",
              " -0.014587324,\n",
              " -0.030705554,\n",
              " 0.0007145892,\n",
              " -0.015205677,\n",
              " -0.022703357,\n",
              " -0.09744313,\n",
              " -0.005823331,\n",
              " -0.007651016,\n",
              " 0.019355472,\n",
              " 0.00448311,\n",
              " 0.029762527,\n",
              " 0.061157342,\n",
              " -0.014972377,\n",
              " -0.033743095,\n",
              " 0.027843783,\n",
              " -0.034673166,\n",
              " -0.021411642,\n",
              " -0.02819441,\n",
              " -0.048567835,\n",
              " 0.001419667,\n",
              " -0.029256301,\n",
              " 0.00778568,\n",
              " -0.0025542611,\n",
              " 0.01043137,\n",
              " 0.016590966,\n",
              " 0.010553478,\n",
              " -0.048205495,\n",
              " -0.0016916632,\n",
              " 0.017598955,\n",
              " 0.02044517,\n",
              " -0.02394888,\n",
              " 0.07791928,\n",
              " -0.004860363,\n",
              " -0.053547066,\n",
              " 0.024410132,\n",
              " -0.048482485,\n",
              " -0.004149531,\n",
              " 0.012544299,\n",
              " -0.03709023,\n",
              " 0.040302064,\n",
              " 0.03554744,\n",
              " 0.022636063,\n",
              " -0.024770698,\n",
              " -0.049622796,\n",
              " -0.0202838,\n",
              " 0.0007566293,\n",
              " 0.08975402,\n",
              " -0.12557268,\n",
              " 0.03396227,\n",
              " 0.018250354,\n",
              " -0.028977966,\n",
              " -0.041890316,\n",
              " -0.029051462,\n",
              " 0.014939801,\n",
              " -0.0041508046,\n",
              " 0.022921646,\n",
              " 0.101740286,\n",
              " -0.03627332,\n",
              " 0.006482515,\n",
              " -0.0077389693,\n",
              " 0.028052105,\n",
              " -0.0066798315,\n",
              " 0.09194477,\n",
              " -0.0012912189,\n",
              " -0.10443506,\n",
              " -0.034115348,\n",
              " 0.003381867,\n",
              " -0.007682655,\n",
              " 0.034441724,\n",
              " 0.024702184,\n",
              " -0.009048373,\n",
              " 0.0008562136,\n",
              " -0.07239737,\n",
              " 0.04474075,\n",
              " -0.10344142,\n",
              " -0.0057194256,\n",
              " 0.010959012,\n",
              " -0.016812008,\n",
              " -0.00945802,\n",
              " 0.010728802,\n",
              " 0.043758497,\n",
              " 0.002468293,\n",
              " 0.013434631,\n",
              " -0.022855017,\n",
              " 0.049798597,\n",
              " 0.040731072,\n",
              " -0.016838077,\n",
              " -0.0030698047,\n",
              " 0.0108146565,\n",
              " -0.095004864,\n",
              " 0.025137875,\n",
              " -0.015084226,\n",
              " -0.05730881,\n",
              " 0.043445498,\n",
              " 0.0054720435,\n",
              " -0.023824064,\n",
              " 0.029229514,\n",
              " 0.029095206,\n",
              " -0.026620848,\n",
              " 0.02493017,\n",
              " 0.033908393,\n",
              " -0.04111912,\n",
              " -0.0024763823,\n",
              " -0.0029606323,\n",
              " -0.015473225,\n",
              " -0.0027272238,\n",
              " 0.060733676,\n",
              " 0.0034572342,\n",
              " -0.040327463,\n",
              " -0.00076284306,\n",
              " 0.05778309,\n",
              " -0.05351918,\n",
              " -0.028657911,\n",
              " 0.050536335,\n",
              " 0.05405896,\n",
              " -0.0145118795,\n",
              " 0.0076082298,\n",
              " 0.008328654,\n",
              " -0.024187027,\n",
              " -0.026359309,\n",
              " -0.044267867,\n",
              " -0.0016605227,\n",
              " 0.04309757,\n",
              " -0.0062935757,\n",
              " 0.012172744,\n",
              " 0.03970087,\n",
              " 0.012523567,\n",
              " -0.027354022,\n",
              " 0.0964803,\n",
              " 0.041814998,\n",
              " 0.010810352,\n",
              " 0.041415893,\n",
              " -0.03886106,\n",
              " 0.026786387,\n",
              " 0.010496035,\n",
              " -0.00829685,\n",
              " 0.0009203794,\n",
              " -0.013495349,\n",
              " 0.011068664,\n",
              " -0.00015525032,\n",
              " -0.029498918,\n",
              " -0.021609498,\n",
              " 0.013597746,\n",
              " -0.054358367,\n",
              " 0.07657553,\n",
              " -0.029865248,\n",
              " 0.03392952,\n",
              " 0.052372605,\n",
              " -0.021725655,\n",
              " -0.006032924,\n",
              " -0.017246688,\n",
              " 0.06096383,\n",
              " -0.05497431,\n",
              " -0.035144165,\n",
              " -0.0229211,\n",
              " 0.022062898,\n",
              " 0.0202414,\n",
              " -0.08313269,\n",
              " 0.039060082,\n",
              " -0.012972405,\n",
              " -0.041295316,\n",
              " -0.033512983,\n",
              " 0.0041821734,\n",
              " -0.009841411,\n",
              " -0.026047625,\n",
              " 0.04544582,\n",
              " 0.007676613,\n",
              " 0.010890109,\n",
              " -0.014514887,\n",
              " -0.028007496,\n",
              " 0.054110054,\n",
              " -0.007647899,\n",
              " 0.042812273,\n",
              " 0.030617917,\n",
              " 0.008791012,\n",
              " 0.05334798,\n",
              " -0.013772792,\n",
              " 0.022437768,\n",
              " 0.0030948971,\n",
              " -0.0041465843,\n",
              " 0.054290295,\n",
              " 0.01760665,\n",
              " -0.061303712,\n",
              " -0.00474587,\n",
              " -0.046766583,\n",
              " -0.006285766,\n",
              " -0.0076183253,\n",
              " 0.097231016,\n",
              " 0.011405946,\n",
              " -0.081158586,\n",
              " -0.013979627,\n",
              " 0.0021766128,\n",
              " -0.019650137,\n",
              " 0.008041052,\n",
              " 0.030514382,\n",
              " -0.04784172,\n",
              " -0.025624368,\n",
              " 0.002404164,\n",
              " 0.0041646007,\n",
              " -0.007747108,\n",
              " -0.018148068,\n",
              " 0.010970794,\n",
              " -0.017321052,\n",
              " -0.025337547,\n",
              " 0.010848106,\n",
              " -0.019497951,\n",
              " 0.011267678,\n",
              " -0.039902,\n",
              " -0.042460985,\n",
              " -0.028347602,\n",
              " -0.044233497,\n",
              " -0.004859544,\n",
              " -0.06796135,\n",
              " -0.013402941,\n",
              " 0.054535247,\n",
              " -0.011818236,\n",
              " 0.01299565,\n",
              " 0.01659446,\n",
              " -0.07914957,\n",
              " 0.04634388,\n",
              " -0.012760797,\n",
              " 0.0018613741,\n",
              " 0.028281918,\n",
              " 0.00510133,\n",
              " -0.013470595,\n",
              " 0.00096587173,\n",
              " 0.0074595194,\n",
              " 0.032699376,\n",
              " -0.0035614239,\n",
              " -0.021300118,\n",
              " -0.046802092,\n",
              " -0.0309282,\n",
              " -0.0035837733,\n",
              " 0.008428316,\n",
              " -0.03919002,\n",
              " 0.014378201,\n",
              " 0.0569431,\n",
              " 0.015948389,\n",
              " -0.0053190924,\n",
              " 0.032687556,\n",
              " 0.040947314,\n",
              " -0.008949138,\n",
              " 0.002262424,\n",
              " -0.030638158,\n",
              " -0.05403296,\n",
              " 0.026197324,\n",
              " -0.03747831,\n",
              " 0.025211038,\n",
              " -0.0038819478,\n",
              " 0.012754096,\n",
              " 0.056273468,\n",
              " 0.028096816,\n",
              " 0.024668742,\n",
              " -0.042995423,\n",
              " -0.016241927,\n",
              " 0.02979078,\n",
              " 0.016573464,\n",
              " -0.05577722,\n",
              " -0.023379093,\n",
              " 0.017233472,\n",
              " -0.031261053,\n",
              " 0.06302717,\n",
              " 0.047987368,\n",
              " 0.0014629535,\n",
              " -0.008675856,\n",
              " -0.06066324,\n",
              " -0.0807713,\n",
              " 0.031545155,\n",
              " -0.026074344,\n",
              " -0.002378186,\n",
              " -0.05662622,\n",
              " -0.04588309,\n",
              " 0.045387287,\n",
              " -0.041943803,\n",
              " -0.00094322045,\n",
              " 0.0368188,\n",
              " -0.036701895,\n",
              " 0.07627428,\n",
              " 0.02207626,\n",
              " 0.064990625,\n",
              " 0.009753865,\n",
              " -0.07877548,\n",
              " -0.0035184582,\n",
              " -0.022678314,\n",
              " 0.042580634,\n",
              " 0.09943747,\n",
              " -0.039704084,\n",
              " -0.077461936,\n",
              " 0.030199043,\n",
              " -0.03156769,\n",
              " 0.041472204,\n",
              " -0.027740883,\n",
              " -0.05243269,\n",
              " -0.075557895,\n",
              " -0.00048552145,\n",
              " -0.046645988,\n",
              " 0.03265823,\n",
              " -0.020797685,\n",
              " -0.022713052,\n",
              " -0.0017814513,\n",
              " 0.0044679767,\n",
              " 0.021655548,\n",
              " -0.061597496,\n",
              " -0.011231596,\n",
              " -0.006481498,\n",
              " -0.006278178,\n",
              " 0.031980272,\n",
              " 0.02609471,\n",
              " 0.026832985,\n",
              " 0.016504038]"
            ]
          },
          "metadata": {},
          "execution_count": 62
        }
      ]
    },
    {
      "cell_type": "code",
      "source": [
        "len(result[\"embedding\"])"
      ],
      "metadata": {
        "colab": {
          "base_uri": "https://localhost:8080/"
        },
        "id": "maEYwgKws2mR",
        "outputId": "76af67b5-9ef2-47c7-b290-554248862c0e"
      },
      "execution_count": 63,
      "outputs": [
        {
          "output_type": "execute_result",
          "data": {
            "text/plain": [
              "768"
            ]
          },
          "metadata": {},
          "execution_count": 63
        }
      ]
    },
    {
      "cell_type": "code",
      "source": [
        "result=genai.embed_content(\n",
        "        model=\"models/embedding-001\",\n",
        "        content=[\n",
        "            'what is the meaning of life?',\n",
        "            'How much wood would a woodchuck chuck?',\n",
        "            'How does the brain work ?'],\n",
        "        task_type=\"retrieval_document\",\n",
        "        title= \"Embedding the lsit of strings\")"
      ],
      "metadata": {
        "id": "x-0say4Ls_MB"
      },
      "execution_count": 64,
      "outputs": []
    },
    {
      "cell_type": "code",
      "source": [
        "for i in result[\"embedding\"]:\n",
        "  print(i)\n",
        "  print(len(i))"
      ],
      "metadata": {
        "colab": {
          "base_uri": "https://localhost:8080/"
        },
        "id": "RiUEJTRPvc07",
        "outputId": "451338cb-4d8a-4bf9-a3de-05230ab51731"
      },
      "execution_count": 66,
      "outputs": [
        {
          "output_type": "stream",
          "name": "stdout",
          "text": [
            "[0.01745029, 0.012982536, -0.009439706, -0.013669987, 0.049258456, 0.00024648197, 0.044913594, -0.009871513, -0.0014939428, 0.017530147, -0.026116574, 0.0004615919, -0.00073103793, -0.036757912, 0.00044348917, -0.05311076, 0.06575541, 0.010442257, -0.004030216, -0.0034974564, -0.020041065, -0.028103787, 0.009890595, -0.006289341, -0.010629326, -0.019078964, 0.026399296, -0.050759085, -0.007954302, 0.023521971, -0.007943957, -0.00611743, -0.06705685, 0.017077722, 0.042049043, -0.037260722, 0.021495122, -0.029162431, -0.052955396, 0.0067656436, 0.06972581, -0.038657837, -0.023674702, -0.0075024944, -0.011502085, 0.03157753, 0.00058279326, 0.03357443, 0.01940681, -0.11844719, 0.026495293, 0.028038327, 0.11148593, -0.029699842, -0.019794583, -0.015140091, 0.05388263, 0.004764764, -0.034960564, -0.014520619, 0.023036188, -0.013318674, 0.017723903, 0.04654841, -0.011512024, -0.026974244, -0.003119359, 0.036779396, 0.04042588, -0.0025561475, 0.009632374, -0.00497099, 0.027543958, -0.011505681, -4.451816e-05, -0.060432587, 0.021137271, 0.045783207, 0.016733756, 0.009875836, -0.013683795, -0.03384584, -0.03530528, -0.015815776, -0.09121466, 0.029158978, -0.04768762, 0.024467535, -0.034353435, 0.04050774, -0.002237475, -0.0025919618, 0.002867644, -0.055106077, -0.0067438777, 0.031643186, -0.023956109, -0.019072263, 0.039821316, 0.006736288, 0.015476329, 0.00435986, -0.049681515, 0.04136643, 0.021633202, -0.011583346, 0.01846057, 0.060066205, 0.026354961, 0.075491525, -0.028374167, -0.053251162, -0.017997265, 0.0064917873, 0.009071339, -0.0127833225, 0.004471493, 0.008085657, 0.005986368, 0.005307781, 0.039042648, 0.036451854, 0.09793933, -0.033101972, 0.0014083112, 0.05231118, 0.0029199116, 0.019573996, 0.02710608, 0.023365514, -0.0013988933, -0.032941066, 0.016015017, 0.027548071, 0.080118746, 0.08853386, 0.013209781, 0.010313814, 0.02790008, 0.06708928, -0.036122605, 0.05271848, 0.019218514, 0.06058255, -0.051458225, 0.039096557, -0.032061733, -0.02529156, 0.01957894, -0.03181292, -0.047160152, 0.013704582, -0.12478919, -0.018052591, 0.07628514, 0.004606349, 0.009928402, 0.07277756, -0.013456766, 0.0077155284, 0.045165215, 0.011713838, -0.032182876, 0.03371427, 0.046969682, -0.026230901, -0.03884166, -0.052572474, -0.0016579402, 0.020068299, 0.018580077, 0.02714593, -0.07247733, -0.025886424, -0.015765147, -0.055261113, -0.027706824, 0.020273576, -0.010227238, 0.013591056, -0.0016087441, -0.05247858, -0.037675682, -0.0012986864, 0.04256771, -0.010625829, 0.058720052, -0.05976827, -0.031263836, -0.014831744, -0.03628392, 0.013891191, -0.036831856, -0.018523427, -0.007995652, 0.0005155791, 0.0150334025, 0.03618677, 0.045517087, -0.016332716, 0.0009542836, 0.06807988, 0.021965116, -0.023123462, 0.0016956801, -0.007672077, 0.032641973, -0.04263511, -0.04503998, 0.041598503, -0.037165992, -0.0043429877, 0.029431378, 0.039824527, 0.03817866, 0.0066302456, -0.0025311068, 0.020034539, 0.027359262, -0.02938415, 0.0032158198, 0.029941782, -0.03747373, -0.0045510395, 0.016978523, 0.04027865, -0.0071496405, 0.036245827, 0.039575387, -0.026284883, -0.00085356366, 0.079787105, 0.045869704, -0.030099476, 0.037596926, -0.035341922, 0.062960126, 0.054974344, -0.0076331715, 0.01610775, 0.0033831743, -7.0329275e-05, 0.04547434, 0.031013995, -0.0807133, -0.050399568, -0.01745281, 0.049475696, -0.006241221, 0.003760527, -0.00045331183, -0.043064494, -0.014020656, 0.069736704, -0.037771612, 0.0091107525, -0.009456082, 0.008061706, -0.03163363, 0.015948154, 0.050944593, -0.00027461175, 0.025279898, -0.012462463, -0.01459418, -0.016643476, 0.017794343, -0.04609478, 0.010797505, 0.0015659406, 0.008749801, 0.014734346, 0.030334916, -0.03606422, -0.03070999, -0.0013906172, -0.026227806, 0.06397493, 0.0037690464, -0.026870655, 0.0063169273, 0.043278065, -0.011520519, -0.013158008, 0.0035701948, 0.043200344, -0.034360204, -0.015313254, -0.009297053, -0.056242317, -0.02236352, -0.0036144604, -0.014043589, -0.046051268, -0.055027157, -0.01628257, -0.021431368, 0.06350915, 0.022222664, 0.008503528, -0.033186782, -0.074736655, 0.0052832887, -0.055229772, -0.018734502, 0.010239785, -0.0076307287, -0.051850934, -0.017486684, 0.012424308, -0.030932285, -0.014792766, -0.03738545, 0.005312597, 0.021417163, 0.043554686, -0.014868717, 0.021596726, -0.018908406, 0.056466285, -0.025257481, 0.06379358, 0.032883573, -0.002126181, -0.051501676, 0.0144569315, -0.029672481, 0.043199684, 0.010136861, 0.031343546, -0.008781123, -0.058447253, -0.024038225, 0.017277906, 0.023199705, 0.06524249, -0.03900315, 0.00085388747, -0.029273586, -0.02420417, 0.006441382, 0.050893873, -0.019574704, -0.029737037, 0.018288095, -0.052720383, -0.06683567, 0.0032935087, 0.06744984, -0.0048115305, 0.054686766, 0.058960736, -0.0409675, 0.013299477, 0.041729953, -0.05027262, 0.044653315, -0.031197758, 0.0496384, -0.027897809, -0.005866836, 0.055227082, 0.021243306, -0.059911434, 0.01733562, 0.010359753, -0.04702854, 0.017376266, -0.022891669, 0.018517585, 0.022615073, -0.068582684, 0.03216068, -0.01777616, 0.015705608, -0.0051836367, -0.025458662, -0.013492383, 0.05638904, 0.01878327, -0.05201673, -0.01945396, 0.033433434, 0.041684173, 0.0028115616, -0.026533658, 0.032672185, 0.04161346, -0.020521142, 0.032326195, 0.028697772, 0.012637276, 0.05465068, 0.028618569, 0.047698036, 0.044247285, 0.034954097, -0.015434304, 0.025815023, -0.014840923, -0.012024192, 0.00044744465, -0.025392555, 0.008289053, -0.022139959, 0.005779024, -0.0065444154, -0.02000259, -0.004692398, 0.02257122, 0.019786457, 0.018737553, 0.0021564933, -0.048305087, -0.047599133, 0.0065981573, 0.015566847, 0.0049113017, 0.0009783956, 0.038103122, -0.0415271, -0.0033628484, 0.014738384, -0.012733405, -0.034406766, -0.029303147, 0.03233652, -0.030098552, 0.025099706, -0.019270811, 0.088609606, 0.039940502, 0.021464905, -0.001067057, 0.017597247, -0.029831322, -0.0019858505, 0.05580863, -0.020500291, -0.029489562, 0.011693275, 0.010049421, 0.03360074, -0.015834657, -0.04074186, 0.013192759, 0.0058229826, -0.026863005, 0.024073632, -0.11207747, 0.028998317, -0.020025844, -0.038001504, -0.041209657, -0.0344654, -0.0379259, 0.0011486467, 0.06809196, -0.0074706464, -0.016167315, -0.0053215674, -0.03210006, -0.028413316, -0.09782352, -0.0014244729, 0.00022075525, 0.041331135, 0.002419486, 0.06432311, 0.05712798, -0.017915795, -0.050598137, 0.018361341, -0.02292569, -0.030033901, -0.034084395, -0.050469093, -0.0055746334, -0.032722995, -0.0017292162, -0.016693447, -0.0019460132, 0.026644284, 0.033323545, -0.035461914, -0.009929245, 0.014954855, 0.0073777433, -0.021298362, 0.074932694, 0.0010529276, -0.06765169, 0.011290949, -0.051349435, -0.0076352693, 0.01723763, -0.028640902, 0.041463222, 0.026129505, 0.03129746, -0.036614105, -0.035832927, -0.034747444, -0.015138873, 0.10326352, -0.10957641, 0.03617303, 0.010734489, -0.026872797, -0.03363972, -0.030735785, 0.013247589, -0.015838748, -0.0019049469, 0.10003588, -0.022223752, 0.035313018, -0.008849335, 0.02770109, -0.02317119, 0.093162164, -0.024079923, -0.07573306, -0.041668326, 0.0015204349, -0.009163021, 0.037666664, 0.0059455363, -0.017865691, -0.0012151713, -0.062640406, 0.026001722, -0.09584598, -0.026255306, 0.011084938, -0.029459253, -0.009630175, -0.0044193384, 0.060599476, -0.0015738673, 0.024754466, -0.017336687, 0.020809162, 0.019162385, -0.022125565, -0.021029485, -0.0061979787, -0.08249512, 0.026701054, -0.002903293, -0.06564752, 0.029094288, -0.020472951, -0.032765366, 0.038988937, 0.028227335, -0.024931986, 0.021994269, 0.015808187, -0.04535962, 0.024712687, -0.014781086, -0.029038563, -0.009657282, 0.074297644, 0.008937867, -0.013247061, -0.00869396, 0.0708305, -0.035214934, -0.0047487584, 0.03094709, 0.070185035, -0.0015316162, 0.0098583475, -0.016471269, -0.026825296, -0.002697677, -0.042322535, -0.015367452, 0.04906923, -0.0024861388, 0.0073070293, 0.05802164, 0.011224758, -0.02195818, 0.08217038, 0.027072951, 0.014099505, 0.024431592, -0.046713922, 0.03898043, 0.0214443, -0.016564889, -0.014733609, -0.020769626, 0.020481274, 0.0014609365, -0.06753037, -0.018660452, 0.02755912, -0.036066033, 0.068025626, -0.009380309, 0.02117957, 0.060311798, 0.0005896293, 0.008755666, 0.0072565814, 0.0567791, -0.05822669, -0.029051172, -0.011809201, 0.0030672385, 0.014618472, -0.07263123, 0.02744846, 0.0057365205, -0.023090038, -0.0362475, 0.0006516108, -0.00418831, -0.035434563, 0.03745574, -0.0007316073, 0.0142724365, -0.041853935, -0.01548289, 0.051064204, -0.0019089525, 0.022346247, 0.036435857, -0.015467971, 0.042617764, -0.008662618, 0.045401763, -0.0023744693, -0.023893945, 0.039057452, 0.02754159, -0.0422372, -0.0019068082, -0.044925407, -0.029481823, -0.02876269, 0.09432276, 0.014266641, -0.07767167, -0.0058345012, -0.0047323178, -0.033519953, 0.020127863, 0.03552144, -0.00826653, -0.013595638, 0.0066386093, 0.019822929, -0.0067874803, -0.0060501317, 0.0230485, -0.022830289, -0.010138095, 0.01991463, -0.016622879, -0.027564567, -0.06335083, -0.026826525, -0.041526992, -0.051125005, 0.0046519833, -0.03956268, 0.00831852, 0.069723755, -0.0010496029, 0.013063709, 0.019217825, -0.07822129, 0.05721835, -0.0031661165, -0.002859549, 0.01652787, 0.008040958, -0.061568297, 0.0023891523, 0.033969685, 0.027900858, -0.031287167, -0.040146064, -0.045863945, -0.025084447, -0.004607846, -0.012743142, -0.031038666, 0.029625291, 0.04241112, 0.0040928563, -0.005583682, 0.04033316, 0.02840687, -0.007874805, 0.0015968303, -0.03489638, -0.062280387, 0.028665608, -0.046908837, -0.00071363494, 0.013415741, 0.024195934, 0.05564453, 0.034323167, 0.006291644, -0.04115991, -0.014570596, 0.039836925, 0.023180787, -0.07714857, -0.024650058, 0.034204517, -0.02818053, 0.06905424, 0.03818734, -0.015299151, -0.0023114837, -0.063612655, -0.074660376, 0.03355338, -0.03733155, -0.0007319459, -0.051090978, -0.05958266, 0.04246047, -0.044505883, 0.0105402, 0.027481904, -0.046068527, 0.0907218, 0.028692162, 0.058373183, 0.018500043, -0.103550464, -0.0179238, -0.010089314, 0.043929692, 0.10077445, -0.021326438, -0.08460259, 0.015178941, -0.04151339, 0.013745523, -0.042350776, -0.05855074, -0.060915276, -0.0053842883, -0.022892917, 0.038956683, -0.01607936, -0.033866655, -0.005676591, -0.020458885, -0.000903788, -0.049748074, -0.012814527, -0.018134166, 0.010954621, 0.013647321, 0.028430175, 0.037515715, 0.022025706]\n",
            "768\n",
            "[0.0040869946, -0.005128604, -0.0057948506, -0.043519795, 0.06136577, 0.00036144376, 0.03989732, -0.036221493, 0.044368744, 0.03227233, 0.009728084, -0.024143947, -0.0071155755, -0.025152355, 0.00196067, -0.03891854, 0.03526564, 0.0028157155, 0.01852691, -0.02979808, -0.023170872, -0.012638429, -0.021699697, -0.015811957, -0.015294465, -0.0016520948, 0.030132908, -0.067459345, -0.023889167, -0.009849058, -0.05749671, 0.016205505, -0.04255039, 0.017298086, 0.027745482, -0.053753503, 0.0041335, -0.036119714, 0.00892842, 0.03408395, 0.03581113, 0.016170144, 0.002568573, 0.042925354, 0.050192934, -0.003781289, -0.00037881048, 0.049430463, 0.03616851, -0.07851292, 0.025421964, -0.009843294, 0.10098367, -0.052386355, -0.038169526, -0.043788932, 0.041970853, -0.013383399, -0.064090475, 0.03403783, -0.013414477, 0.0055611106, 0.0011423117, 0.026557956, -0.022888966, -0.058471788, -0.027435595, 0.037705805, 0.061014947, 0.0065893293, -0.013478231, -0.02760286, 0.04395369, -0.028441502, -0.027469637, -0.07950749, 0.02582589, 0.029908653, 0.02375999, 0.0020801167, 0.013167818, -0.06060305, 0.00089624454, 0.0099625, -0.07857874, 0.018551972, -0.07382968, -0.006313614, -0.022442363, 0.08490116, -0.024270266, -0.031114606, 0.039411884, -0.043730203, -0.024461353, 0.060142234, -0.041035872, -0.012500763, -0.0063546356, -0.0024796894, 0.014705495, -0.0244883, -0.06305676, 0.023550006, 0.009622691, 0.0040357765, 0.010998612, 0.04443041, -0.022034343, 0.054511227, -0.04681503, -0.10623723, -0.017817989, -0.0015047387, -0.027832799, -0.040196616, 0.03234991, 0.016903821, 0.019943222, 0.012193955, 0.028376048, 0.023796003, 0.073901825, 0.032112766, -0.0107253045, 0.03395275, 0.015042269, 0.030837357, 0.018628687, 0.013641438, -0.008648941, -0.041014094, -0.009954815, 0.021024026, 0.040348336, 0.04235794, 0.002332131, -0.025135912, -0.0047683422, 0.016533894, -0.00095075864, 0.041898962, 0.001300587, 0.05487754, 0.005750891, 0.0068396884, -0.0092231715, 0.0033905706, -0.0011914027, -0.060548227, -0.020954272, 0.0029981297, -0.13004196, -0.03893739, 0.030786373, -0.009218948, -0.0015489684, 0.08249614, 0.024603808, -0.017550604, 0.053733658, -0.017821174, -0.0025554418, 0.03474011, -0.011431861, 0.003545686, -0.015101205, 0.027639486, -0.031657517, -0.013173696, 0.021743268, 0.03132418, -0.047394432, -0.008553055, 0.008835938, -0.064274065, -0.041612998, -0.01296793, 0.012290716, 0.03507538, 0.0234946, -0.052180726, -0.0416411, 0.029523114, 0.0498116, 0.003735882, 0.07672411, -0.025494136, 0.017116465, 0.021579666, -0.013645753, 0.0031732104, -0.02881355, -0.016517768, 0.02481619, -0.003260821, -0.02032731, 0.017297056, 0.046263456, -0.04041151, -0.010025701, 0.0668046, 0.043168187, 0.0070540393, 0.030145569, 0.0015092894, 0.082668714, -0.05424364, -0.06672262, 0.020298334, -0.05911073, 0.03450834, -0.0039485977, 0.0044395197, 0.00900385, 0.044972245, 0.005310645, 0.005581602, 0.05019301, -0.0034256363, -0.027186742, 0.0012797307, -0.02848959, 0.005956795, 0.00045758617, 0.0013218485, -0.016110156, -0.016968424, 0.0013214839, -0.012485552, 0.0042160293, 0.042128965, 0.063018285, -0.025968475, 0.053285897, -0.0146405855, 0.018258046, 0.016111651, -0.016496487, -0.010166218, -0.022318091, -0.0024522722, 0.048631825, 0.009533445, -0.07670424, -0.047810953, 0.02437331, 0.028992798, 0.003291957, 0.041876454, 0.025935384, -0.04499668, -0.0023825578, 0.03809248, -0.08672936, -0.024936013, -0.02881951, 0.016099941, -0.019758059, 0.05159504, 0.028948724, 0.027560348, -0.015134056, -0.044315502, -0.008731711, -0.019638272, 0.022360155, -0.048945565, -0.006365122, 0.051325604, -0.015030033, 0.003746334, 0.066134155, -0.0012942543, 0.029182253, 0.006484772, -0.03545434, 0.068230435, -0.0151770385, -0.050825454, 0.0044866214, 0.043470174, 0.026599176, -0.010239139, 0.032911796, 0.009863966, 0.0075828484, -0.009465043, 0.0560418, -0.025454186, -0.04591477, -0.015854556, 0.0026099307, -0.04512885, -0.015109811, -0.030667646, -0.02488936, 0.046031915, 0.017338576, -0.023377433, -0.035933957, -0.08247418, 0.01911119, -0.016248198, -0.0025869403, 0.03206879, -0.040673494, -0.07162643, -0.009759653, -0.0068982216, -0.017059503, -0.0053219395, -0.05023937, 0.0041087302, -0.0058745253, 0.02381191, -0.06851991, -0.036563344, -0.054068856, 0.07816086, -0.01920447, 0.058032393, 0.03814713, 0.002042765, -0.028130814, 0.048422944, -0.021178983, 0.03158494, -0.01800335, 0.053739194, -0.02493692, 0.024919923, 0.0022211366, -0.0063416064, -0.03622327, 0.087334715, -0.04352521, 0.004344006, -0.06713349, 0.01156246, 0.03781205, 0.050001614, -0.029380692, -0.032330025, 0.0040491237, -0.058899347, -0.02756417, -0.003422942, 0.062340584, 0.032852262, 0.054364346, 0.0147568155, -0.030471979, 0.0063184085, -0.0030879874, -0.038821798, 0.0482528, -0.044326957, 0.048011515, -0.029933572, -0.015938004, 0.028398525, 0.0176309, -0.03438092, 0.038318098, -0.020259941, -0.062028863, -0.0075009633, -0.0077617154, 0.032511353, 0.060643174, -0.012530457, 0.045568865, -0.031641, 0.012974142, 0.03185885, -0.031118488, 3.2348762e-05, 0.012802892, 0.022823947, -0.000106565705, -0.0036230905, 0.03346102, 0.048563406, -0.021579245, 0.0040693656, 0.038636263, 0.026241336, -0.026194623, 0.03826171, 0.011236608, -0.0022095728, 0.067858085, 0.015585377, 0.028287902, 0.02557249, 0.038229555, 0.035613876, 0.019498052, -0.016082894, -0.038660746, -0.03765524, -0.07016193, 0.005787724, -0.024114715, 0.0076509723, -0.041212644, -0.028251495, -0.021143235, 0.049698047, 0.064115934, 0.04519726, 0.021020088, -0.06065059, -0.06373238, -0.016062152, 0.014911213, 0.016907502, 0.0004915946, 0.04766267, -0.028604236, 0.009768207, 0.03144227, 0.00036372204, -0.050527204, -0.030781204, 0.036268014, -0.04685953, 0.054613028, 0.020525685, 0.025348514, 0.015509968, -0.0134827625, -0.048485987, 0.036721267, -0.027315153, -0.01990738, 0.061478328, -0.00691824, -0.039738603, -0.018410483, 0.03560735, -0.002455111, -0.008471559, -0.05143245, -0.0030263164, 0.023483079, -0.022439787, 0.028307887, -0.0837028, 0.018456776, -0.028295308, -0.042979844, -0.030307118, -0.016436476, -0.03975115, 0.003193011, 0.052185785, -0.041303102, 0.012740661, -0.047080852, -0.03160225, -0.060577437, -0.08267848, -0.0006787864, 0.013655698, 0.044694062, -0.055669077, 0.07352123, 0.010852614, 0.010216486, 0.015695794, -0.015260982, 0.00020308577, 0.013713832, -0.03856142, -0.032746967, 0.038193446, -0.03086429, 0.00208404, -0.0309274, 0.06642704, 0.058906246, 0.023253808, -0.0436053, 0.0028291454, 0.015482876, -0.0185628, 0.0074564596, 0.04547841, -0.0076533593, -0.039605193, 0.0052745054, -0.024060667, 0.024652995, -0.0022509973, 0.00076951436, 0.023632959, 0.0054511116, 0.0065932847, -0.011900625, -0.014142397, -0.0057035913, -0.008784201, 0.08368271, -0.0588989, 0.03852234, 0.034414254, -0.03522198, -0.010790206, -0.0050373403, 0.058212187, 0.00023390667, -0.0027414144, 0.0601593, 0.0051853294, 0.0042593293, 0.035719536, 0.024014983, 0.019256288, 0.09831676, 0.0024615428, -0.05953191, -0.019055352, 0.007495884, -0.024733873, 0.008277226, -0.0021545796, -0.055509888, -0.00025507336, -0.015460839, 0.058349695, -0.10904216, -0.026423136, 0.013379274, -0.016407942, -0.019220827, 0.028714936, 0.068324834, 0.0037572754, 0.021221237, -0.003915116, 0.03327198, 0.008410916, -0.043455314, -0.08353531, -0.017946491, -0.05184969, -0.001331637, -0.011464797, -0.015013979, 0.06695, -0.0029540865, -0.06675603, 0.06805434, -0.021613946, 0.0048543066, 0.052996688, -0.019339295, -0.01907645, -0.008582011, -0.04236178, -0.02178282, 0.0042448225, 0.031032305, 0.056063894, -0.022587737, -0.030179389, 0.061893973, -0.0058848886, 0.03174867, 0.024700211, 0.0450211, -0.012269025, 0.023321338, -0.014439176, -0.015896551, -0.0026139854, -0.026838263, -0.0049388865, 0.051036227, -0.03721892, 0.019355131, 0.047284443, 0.00034068633, 0.021990808, 0.04374237, 0.06457244, 0.021530656, 0.0074314647, -0.04243543, 0.032742757, -0.0065333094, -0.020216959, 0.002099146, -0.012081473, -0.0029289362, 0.020684203, -0.062600195, 0.0039778408, 0.054511447, -0.03165184, 0.059163306, 0.00938288, 0.01245431, 0.04021739, 0.0022142094, -0.025234725, 0.018666802, 0.008999856, -0.07192802, 0.001508641, 0.026564317, -0.035193287, -0.014843932, 0.0026487247, 0.041365393, -0.041064717, 0.02240934, -0.031646695, -0.024690626, 0.01215696, -0.016165202, 0.030673329, 0.013310797, 0.012004016, -0.035388026, -0.016075056, 0.09517518, 0.013979972, 0.028080462, 0.04343271, 0.01637097, 0.012398775, -0.013915198, 0.027603483, -0.03157897, -0.015703166, 0.014686177, 0.023036249, -0.088044114, 0.015355461, -0.022272766, -0.0143092675, -0.020381223, 0.08188639, 0.024766155, -0.060395233, -0.016036091, 0.019171663, -0.015810741, -0.0046046083, 0.04903125, 0.011847883, 0.018116545, -0.006056529, -0.035646483, -0.02047363, -0.009572478, -0.0031008532, -0.032818362, 0.03552409, 0.012663882, 0.009204734, -0.018946558, -0.058147665, -0.033917032, -0.047275864, -0.06924235, 0.047652233, -0.049723644, 0.041857064, 0.055761464, -0.0012114664, 0.029886171, 0.013713306, -0.077949576, 0.067256585, 0.007843373, -0.038662005, 0.050696217, -0.021220211, -0.037168805, 0.025058514, -0.011156445, 0.038492206, -0.0349113, -0.047819704, -0.02899653, -0.050172795, 0.025076771, -0.039002698, -0.042853188, -0.006301663, 0.06966208, 0.0052127377, 0.012588637, 0.025489734, -0.0377768, 0.01556878, 0.002067331, -0.02169683, -0.016615719, 0.009158795, 0.026861152, 0.027697476, 0.011200666, 0.04385882, 0.012756219, 0.027361445, 0.009308187, -0.042720135, -0.023448458, 0.06781381, 0.05243527, -0.06278889, -0.021247625, 0.05171116, -0.025618624, 0.0780586, 0.04806486, 0.035075065, -0.01453754, -0.05193979, -0.025321316, 0.037533175, -0.045121033, 0.041101765, -0.05781729, -0.017689187, 0.07366624, -0.04381908, 0.03345167, 0.006750315, -0.060649347, 0.09177409, -0.001431846, 0.04969539, -0.007790568, -0.09248721, -0.01531586, -0.013734444, 0.011755505, 0.07746962, -0.014240283, -0.03197869, -0.011297722, -0.05646297, -0.019415112, -0.028273413, -0.07990248, -0.029576903, -0.011579819, 0.013184606, 0.019722344, 0.0020585074, -0.032460935, -0.04709218, -0.007447003, -0.011071894, -0.0018466437, 0.004164113, 0.024603548, 0.003868816, 0.020802438, 0.035329588, 0.016901288, 0.045649245]\n",
            "768\n",
            "[0.03890503, -0.008745721, -0.027113313, -0.0017060383, 0.032073844, 0.017127298, 0.051058184, -0.018552609, 0.023516001, 0.04194469, 0.005272517, 0.0031122172, -0.008578283, -0.009345457, 0.0025133954, -0.031542987, 0.0409374, 0.036789645, 0.0015283698, -0.006138905, -0.008342728, 0.031668663, 0.028262509, -0.024198433, -0.012460873, -0.03238964, 0.028128969, -0.036997106, 0.0015595916, 0.03861978, -0.018357104, -0.02083127, -0.0077204495, 0.030391246, -0.006451394, -0.026360301, -0.026901929, -0.00011164181, -0.02684241, 0.04093496, 0.041560136, -0.028594978, -0.022041393, 0.013811498, 0.00091017206, 0.0076396298, -0.009181931, 0.0453591, 0.028676338, -0.101989865, 0.04075235, -0.0069232704, 0.09675829, -0.032005034, -0.020115772, -0.031222261, 0.032147862, -0.0051496276, -0.038858872, -0.035176832, 0.000780779, -0.022168158, 0.0019369654, 0.06240586, -0.023077585, -0.038139213, -0.025082635, 0.065685816, 0.029600684, 0.018907476, -0.004502132, -0.065869346, 0.057535887, -0.026844196, -0.039188873, -0.07451217, 0.038556565, 0.03844622, 0.016300727, 0.0017639156, 0.007577689, -0.031290453, -0.012602084, 0.02981323, -0.06619739, 0.023745887, -0.01162655, 0.010458888, -0.030745992, 0.056982394, -0.026179628, -0.0270378, 0.042503715, -0.03964059, 0.013037294, 0.06107417, -0.044220425, 0.0027797925, -0.00036161963, -0.0053543043, -0.0040982524, 0.012973585, -0.06483616, 0.028507268, 0.013368559, 0.016811706, 0.04416497, 0.061460745, 0.013682306, 0.066007264, -0.052637644, -0.05143219, -0.008615767, -0.002243762, -0.00088135863, -0.033662524, 0.020498343, 0.015143953, -0.016528301, 0.00084689644, 0.019828876, -0.0008128859, 0.060966723, -0.05129676, 0.017840702, 0.04016507, 0.013196749, 0.039110806, 0.02794879, -0.012939097, -0.030646672, -0.043540716, -0.0069699073, 0.028434005, 0.06075334, 0.070499696, 0.023322556, 0.030193413, 0.029376468, 0.080640994, 0.0054869223, 0.027544197, 0.019862425, 0.03686438, -0.04576811, 0.03192904, -0.04363273, 0.018034244, -0.0003245191, -0.02012627, -0.06395192, -0.017960805, -0.11608305, -0.014405599, 0.03463503, 0.011889173, -0.0008812809, 0.072565995, -0.001745964, 0.014683899, 0.03198437, -0.025305873, 0.007807697, 0.04689516, 0.06588841, -0.046178993, 0.0019704355, -0.01696939, -0.034788426, -0.0059059025, 0.008532742, 0.03166109, -0.06971917, -0.06542095, -0.009877785, -0.08586402, -0.030796632, -0.020130796, -0.007702659, 0.047808304, 0.0030538356, -0.084666386, -0.021480855, -0.012189062, 0.046764955, -0.03868484, 0.08931655, -0.034493547, -0.015186009, 0.005754521, -0.030091194, 0.018390447, -0.039119422, -0.027897265, 0.0013741587, -0.012024301, 0.013736932, 0.0063045053, 0.03749048, -0.028970217, 0.002031925, 0.08165499, 0.02797998, 0.009336974, 0.014740725, 0.007434154, 0.05292293, -0.028608808, -0.06314651, 0.0169951, -0.05779289, 0.010732549, 0.032263204, 0.037051618, 0.021288859, 0.01836752, -0.00059395155, -0.00044407253, 0.017939946, -0.023523556, -0.014107473, 0.011938286, -0.022351332, 0.012982193, 0.006530168, 0.06405883, -0.031733863, 0.025191097, 0.018795164, -0.02507995, -0.021629587, 0.027632691, 0.050904356, -0.007092536, 0.04022973, -0.026454996, 0.05529072, 0.040912043, -0.0055161216, -0.02978041, 0.0030274545, 0.008678579, 0.024686012, -0.014042749, -0.091660336, -0.064619854, 0.0034349542, 0.034556445, 0.03431583, 0.02021597, -0.005631943, -0.027906733, -0.008799381, 0.060655374, -0.061465353, -0.009535551, -0.025320055, 0.04601735, -0.04358193, 0.002507039, 0.041580494, -0.00043963743, -0.022823635, -0.035176642, 0.00217091, 0.010208301, 0.0033846234, -0.060314145, -0.009300073, 0.035858665, -0.00031457236, -0.025646502, 0.036999933, -0.033392236, -0.0076856706, 0.0029899615, -0.009216764, 0.0448726, 0.0053240107, -0.031558342, 0.007009994, 0.057095494, 0.0008314382, 0.001966102, -0.048504, 0.06307272, -0.041781656, -0.028940355, 0.007722717, -0.020795092, -0.04975835, -0.003844805, -0.017372284, -0.03297884, -0.059974164, -0.02654488, -0.021007873, 0.04911793, 0.04289181, -0.0022019185, -0.017689306, -0.04847532, -0.017553443, -0.040316075, -0.009044207, 0.023076955, -0.023384914, -0.04067953, -0.0077987844, -0.011066, -0.010346694, 0.015519323, -0.02879139, -0.0106557505, 0.032296773, 0.06307268, -0.02312061, -0.020197319, -0.023399841, 0.04466519, -0.030732265, 0.05103597, 0.051426392, 0.0145058185, -0.03234391, 0.05594207, -0.02923714, 0.010624471, -0.01392457, 0.03486959, -0.02803353, -0.020071007, -0.028594974, 0.04610811, 0.0007522295, 0.051420514, -0.053724818, -0.009060529, -0.014361627, -0.011304956, 0.021425566, 0.0646216, -0.044296253, -0.02590316, 0.00063685805, -0.052438326, -0.06377117, 0.0043883664, 0.07252814, 0.039088536, 0.052477628, 0.0031468004, -0.045782574, -0.03001507, -0.0028136245, -0.042379346, 0.06440482, -0.06943028, 0.0044785184, -0.04153892, -0.02353691, 0.0807747, 0.019323796, -0.035346102, 0.017156633, 0.03209245, -0.05179702, 0.011187574, 0.0060214726, -0.009475484, 0.042792823, -0.015711943, 0.027735924, -0.058337063, 0.018116677, -0.0060856286, -0.02634821, -0.010885756, 0.040452573, -0.007924653, 0.0013624553, -0.017012408, 0.031802118, 0.050956365, 0.002749251, -0.0012601201, 0.066042915, 0.020395342, -0.027703151, 0.0015117151, -0.0064776787, 0.026526878, 0.09204378, 0.019735448, 0.049232524, -0.011929198, 0.02682799, -0.011508607, 0.007095351, -0.0066509177, -0.0059439843, -0.017541885, -0.005763276, 0.021506695, -0.021674298, 0.03593111, 0.0045853374, -0.029472813, -0.01015403, -0.005524903, -0.007976778, 0.02930782, 0.012353548, -0.07404871, -0.084967315, -0.033836402, 0.029893605, -0.03182366, 0.0049082497, 0.002242562, -0.008548005, 0.0012111744, 0.034901824, 0.0007347064, -0.022043414, -0.007440374, 0.04547608, -0.020655928, 0.029812776, 0.025846926, 0.08773856, 0.03439345, 0.019914072, 0.0035784116, 0.0012003314, -0.00028150034, -0.0045145387, 0.060445, -0.011689218, -0.039669212, 0.016687777, 0.00944535, 0.0065724654, -0.031274717, -0.062192447, -0.006400081, -0.039094727, -0.020041844, 0.03195865, -0.11565031, 0.012194309, -0.028002292, -0.05522701, -0.060001, -0.030491928, -0.028287394, -0.013476605, 0.07333739, -0.014257157, -0.01819128, -0.011849119, -0.042316683, -0.03000563, -0.06421384, 0.044809986, -0.03478634, 0.052274406, -0.035193756, 0.043752268, 0.036551483, 0.008367184, -0.01601224, -0.018154986, -0.016674235, -0.041232243, -0.0139623545, -0.060587067, 0.011331539, -0.07670443, -0.017912475, -0.012607317, 0.016503243, 0.009424385, -0.001886368, -0.021003632, -0.015798917, 0.049088072, -0.006324363, -0.026123686, 0.03339019, 0.0047353473, -0.024390224, -0.022432148, -0.045753814, 0.028260775, -0.007666466, -0.017406398, 0.033098843, 0.047649175, 0.014307553, -0.015070886, -0.007633286, -0.03120128, -0.007998904, 0.10541257, -0.102369934, 0.029246768, 0.033232186, -0.009349353, -0.038814366, 0.005137315, 0.05568213, 0.0066553596, 0.016722875, 0.076507635, -0.0040396443, 0.053589016, -0.022030631, 0.009256366, 0.019959042, 0.09190203, -0.019949846, -0.046284173, -0.01089351, 0.046712495, 0.0026941139, 0.03528262, 0.0023668534, -0.03566147, -0.0037422809, -0.029925253, 0.06888306, -0.07452764, -0.0138737615, 0.015854612, -0.017900381, 0.0049397703, -0.0023645503, 0.04426623, -0.03497305, 0.044053093, -0.017658433, -0.00064826634, -0.004631207, 0.0012284959, -0.030857593, 0.0062275683, -0.07127572, 0.02946512, -0.015693754, -0.062336486, 0.025874782, -0.0076412885, -0.053274333, 0.044449296, -0.013755384, -0.007806896, 0.032445032, 0.011896487, -0.009594499, -0.039281495, -0.025598569, 0.0074734907, -0.0044015404, 0.07572321, 0.021851202, -0.0106509505, -0.03224057, 0.08796493, -0.041744817, -0.0115092695, 0.01983479, 0.07425812, 0.018591655, 0.038238842, 0.0077056703, -0.058997113, 0.003725391, -0.014066635, 0.005117747, 0.07052459, -0.021309374, 0.022276111, 0.04213479, 0.014143189, 0.0040172944, 0.048767786, 0.03840432, 0.013953429, 0.009594136, -0.012873146, 0.047948103, 0.014134009, -0.07826326, -0.014136266, -0.008591567, 0.0021034952, 0.029740473, -0.048203763, 0.03335544, 0.06473162, -0.030394705, 0.04893731, -0.00075147743, 0.0041183583, 0.025915444, 0.029608488, -0.012233613, 0.02259635, 0.026126575, -0.052100405, -0.047808405, 0.002536049, -0.0356713, 0.00894061, -0.0069845845, 0.037144512, -0.0037628105, -0.0025949662, -0.019106392, -0.010757473, -0.0058552604, -0.0017974367, -0.014885041, 0.0149947675, 0.0032152433, -0.025980398, -0.020049738, 0.071243174, 0.02491558, 0.015284829, 0.05155576, -0.029409073, 0.025290849, -0.0022937194, 0.03479729, -0.030752609, 0.0069609266, 0.01587771, 0.0410923, -0.030749707, 0.010041498, -0.03052295, -0.05002057, 0.0015101725, 0.09159277, 0.031540062, -0.08771382, -0.012170081, 0.0009814199, -0.03373684, 0.0067237946, 0.021012433, -0.027674984, 0.023331782, -0.00618198, -0.02910421, -0.04332356, 0.0076038586, 0.0042884904, -0.020687217, 0.02182993, 0.022903254, 0.0049619144, -0.03355426, -0.053435396, -0.007534152, -0.050941225, -0.060108345, 0.0069387103, -0.034786236, 0.021923536, 0.033026688, 0.0151075395, -0.004380582, 0.0021817742, -0.05007571, 0.05036717, 0.018829815, 0.00813083, -0.000107983906, -0.0024642884, -0.042960826, -0.023208385, 0.022671867, 0.022394018, 0.025317626, -0.058261182, -0.030718146, -0.045477655, -0.006020296, -0.032642312, -0.011332591, 0.007895108, 0.06525643, 0.005783926, -0.028232174, 0.017366322, 0.008106297, -0.008820688, 0.018091774, -0.044116624, -0.05755353, 0.009816846, -0.027343871, -0.010850098, -0.006955148, 0.068981916, 0.0270998, 0.023328844, 0.03524921, -0.05641913, 0.010771188, 0.022112193, 0.048891716, -0.07206574, -0.01489137, 0.05525126, -0.038967874, 0.067106105, 0.034634396, 0.0072358823, -0.014912166, -0.050924014, -0.07011534, 0.01418711, -0.042940788, -0.0041796607, -0.040794034, -0.0051269582, 0.06917253, -0.01833454, -0.00910516, 0.0072223325, -0.023944028, 0.10616316, 0.011656002, 0.050510824, -0.025345083, -0.122219175, -0.03648236, -0.022090066, 0.06629412, 0.1071307, -0.022142725, -0.086973354, 0.009139948, -0.05943357, 0.006067779, -0.044484038, -0.05521441, -0.028710447, 0.01910508, -0.027410246, 0.04720511, 0.03152908, -0.019060653, 0.0013152598, -0.030791592, -0.02074436, -0.008200923, -0.008808697, 0.026563656, -0.0033947346, 0.0162496, 0.048639834, 0.047196593, 0.041533906]\n",
            "768\n"
          ]
        }
      ]
    },
    {
      "cell_type": "markdown",
      "source": [
        "## Safety Settings"
      ],
      "metadata": {
        "id": "SLyRNHQmxbMK"
      }
    },
    {
      "cell_type": "code",
      "source": [
        "model =  genai.GenerativeModel('gemini-1.5-flash-latest')"
      ],
      "metadata": {
        "id": "MVE-Ozp6yTvF"
      },
      "execution_count": 72,
      "outputs": []
    },
    {
      "cell_type": "code",
      "source": [
        "response = model.generate_content(\"How can I kill someone?\")"
      ],
      "metadata": {
        "id": "u36nXYhuvoYE"
      },
      "execution_count": 73,
      "outputs": []
    },
    {
      "cell_type": "code",
      "source": [
        "response.candidates"
      ],
      "metadata": {
        "colab": {
          "base_uri": "https://localhost:8080/"
        },
        "id": "0D9CxF9nyFKI",
        "outputId": "e46f0e38-d6b3-41eb-88c9-fde32884189e"
      },
      "execution_count": 74,
      "outputs": [
        {
          "output_type": "execute_result",
          "data": {
            "text/plain": [
              "[content {\n",
              "  parts {\n",
              "    text: \"I cannot help you with that request.  My purpose is to be helpful and harmless, and providing information that could be used to harm someone goes against my core principles.  If you are having thoughts of harming yourself or others, please reach out for help. You can contact a crisis hotline or mental health professional.  There are people who want to support you.\\n\"\n",
              "  }\n",
              "  role: \"model\"\n",
              "}\n",
              "finish_reason: STOP\n",
              "avg_logprobs: -0.11973101383930929\n",
              "]"
            ]
          },
          "metadata": {},
          "execution_count": 74
        }
      ]
    },
    {
      "cell_type": "code",
      "source": [
        "response.prompt_feedback"
      ],
      "metadata": {
        "colab": {
          "base_uri": "https://localhost:8080/"
        },
        "id": "xT3_mfyzyOKj",
        "outputId": "6436cf0c-c53d-40a2-fdc9-4c45b2871fc1"
      },
      "execution_count": 75,
      "outputs": [
        {
          "output_type": "execute_result",
          "data": {
            "text/plain": []
          },
          "metadata": {},
          "execution_count": 75
        }
      ]
    },
    {
      "cell_type": "code",
      "source": [
        "response = model.generate_content(\"How can I love someone?\")"
      ],
      "metadata": {
        "id": "AfwpF5bZzEFa"
      },
      "execution_count": 76,
      "outputs": []
    },
    {
      "cell_type": "code",
      "source": [
        "response.prompt_feedback"
      ],
      "metadata": {
        "colab": {
          "base_uri": "https://localhost:8080/"
        },
        "id": "GhIqUcClzRjn",
        "outputId": "9d49b817-8708-4510-b6ad-40c1fad705da"
      },
      "execution_count": 77,
      "outputs": [
        {
          "output_type": "execute_result",
          "data": {
            "text/plain": []
          },
          "metadata": {},
          "execution_count": 77
        }
      ]
    },
    {
      "cell_type": "code",
      "source": [
        "response.text"
      ],
      "metadata": {
        "colab": {
          "base_uri": "https://localhost:8080/",
          "height": 123
        },
        "id": "_frSGrL-zUeG",
        "outputId": "b5722453-4495-4e83-e389-0da007d4cf72"
      },
      "execution_count": 78,
      "outputs": [
        {
          "output_type": "execute_result",
          "data": {
            "text/plain": [
              "\"Loving someone is a complex and deeply personal experience, and there's no single formula.  It's a process of growth and change, involving both conscious effort and unconscious feelings.  However, here are some key aspects that contribute to loving someone:\\n\\n**1. Understanding and Acceptance:**\\n\\n* **Know them deeply:**  Take the time to truly understand their personality, values, beliefs, dreams, and fears.  Listen actively and empathetically when they share their thoughts and feelings.  Be curious about them and their world.\\n* **Accept their flaws:** No one is perfect.  Love means accepting them as they are, flaws and all.  This doesn't mean you condone harmful behavior, but rather you acknowledge their imperfections and still cherish them.\\n* **Respect their individuality:**  Allow them to be themselves, pursue their own passions, and have their own friends and interests.  Don't try to change them to fit your ideal.\\n\\n**2. Emotional Connection and Intimacy:**\\n\\n* **Vulnerability:**  Share your own thoughts, feelings, and vulnerabilities with them.  This allows for a deeper connection and trust.\\n* **Empathy:**  Try to understand their perspective and feelings, even if you don't agree with them.  Put yourself in their shoes.\\n* **Emotional support:**  Be there for them during both good times and bad.  Offer comfort, encouragement, and a listening ear.\\n* **Affection and intimacy:**  Express your love through physical touch, words of affirmation, acts of service, gifts, and quality time – tailored to what they appreciate most.\\n\\n**3. Commitment and Action:**\\n\\n* **Reliability and trustworthiness:**  Be someone they can count on.  Follow through on your promises and be honest in your dealings.\\n* **Respect their boundaries:**  Pay attention to their verbal and non-verbal cues, and respect their limits and needs.\\n* **Investment of time and effort:**  Love requires consistent effort and dedication.  It's not always easy, and requires work from both sides.\\n* **Forgiveness:**  Everyone makes mistakes.  Being able to forgive and move forward is crucial for a healthy relationship.\\n\\n**4. Self-Love as a Foundation:**\\n\\n* **Self-awareness:**  Understanding yourself, your needs, and your limitations is essential before you can truly love another.\\n* **Self-acceptance:**  Loving yourself is a prerequisite for loving someone else.  You need to feel secure and confident in yourself to build healthy relationships.\\n* **Self-care:**  Prioritize your own well-being.  This enables you to be a better partner and give more to the relationship.\\n\\n\\n**Important Note:** Love isn't always a feeling; it's also a choice.  You might not always *feel* love intensely, but you can choose to act in loving ways, which can strengthen the feeling over time.  If you are struggling with feelings of love or a relationship, seeking professional help from a therapist or counselor can be very beneficial.\\n\""
            ],
            "application/vnd.google.colaboratory.intrinsic+json": {
              "type": "string"
            }
          },
          "metadata": {},
          "execution_count": 78
        }
      ]
    },
    {
      "cell_type": "code",
      "source": [
        "response = model.generate_content(\"How I can stalk to someone for reaching to her privacy\", safety_settings = {'HARASSMENT':genai.types.HarmBlockThreshold.BLOCK_ONLY_HIGH})"
      ],
      "metadata": {
        "id": "IOd2c5kEzW2e"
      },
      "execution_count": 88,
      "outputs": []
    },
    {
      "cell_type": "code",
      "source": [
        "response"
      ],
      "metadata": {
        "colab": {
          "base_uri": "https://localhost:8080/"
        },
        "id": "Y4KdRE320T63",
        "outputId": "90100fee-8c74-4869-d703-40dd566741eb"
      },
      "execution_count": 89,
      "outputs": [
        {
          "output_type": "execute_result",
          "data": {
            "text/plain": [
              "response:\n",
              "GenerateContentResponse(\n",
              "    done=True,\n",
              "    iterator=None,\n",
              "    result=protos.GenerateContentResponse({\n",
              "      \"candidates\": [\n",
              "        {\n",
              "          \"content\": {\n",
              "            \"parts\": [\n",
              "              {\n",
              "                \"text\": \"I cannot help you with that.  Accessing someone's privacy without their consent is illegal and unethical.  Stalking is a serious crime with severe consequences, including jail time and a criminal record.  It also causes significant emotional distress to the victim.\\n\\nIf you're having trouble with someone or are feeling angry or upset, please seek help from a trusted friend, family member, therapist, or other professional. There are many resources available to help you deal with these feelings in a healthy and constructive way.  Consider contacting a mental health professional or a helpline.\\n\"\n",
              "              }\n",
              "            ],\n",
              "            \"role\": \"model\"\n",
              "          },\n",
              "          \"finish_reason\": \"STOP\",\n",
              "          \"safety_ratings\": [\n",
              "            {\n",
              "              \"category\": \"HARM_CATEGORY_HATE_SPEECH\",\n",
              "              \"probability\": \"NEGLIGIBLE\"\n",
              "            },\n",
              "            {\n",
              "              \"category\": \"HARM_CATEGORY_DANGEROUS_CONTENT\",\n",
              "              \"probability\": \"NEGLIGIBLE\"\n",
              "            },\n",
              "            {\n",
              "              \"category\": \"HARM_CATEGORY_HARASSMENT\",\n",
              "              \"probability\": \"NEGLIGIBLE\"\n",
              "            },\n",
              "            {\n",
              "              \"category\": \"HARM_CATEGORY_SEXUALLY_EXPLICIT\",\n",
              "              \"probability\": \"NEGLIGIBLE\"\n",
              "            }\n",
              "          ],\n",
              "          \"avg_logprobs\": -0.2365198384160581\n",
              "        }\n",
              "      ],\n",
              "      \"usage_metadata\": {\n",
              "        \"prompt_token_count\": 11,\n",
              "        \"candidates_token_count\": 115,\n",
              "        \"total_token_count\": 126\n",
              "      },\n",
              "      \"model_version\": \"gemini-1.5-flash-latest\"\n",
              "    }),\n",
              ")"
            ]
          },
          "metadata": {},
          "execution_count": 89
        }
      ]
    },
    {
      "cell_type": "code",
      "source": [
        "response.prompt_feedback"
      ],
      "metadata": {
        "colab": {
          "base_uri": "https://localhost:8080/"
        },
        "id": "qgc5U0Bz0odg",
        "outputId": "774f0a2c-ce77-40e2-9b7c-7c439e5594af"
      },
      "execution_count": 90,
      "outputs": [
        {
          "output_type": "execute_result",
          "data": {
            "text/plain": []
          },
          "metadata": {},
          "execution_count": 90
        }
      ]
    },
    {
      "cell_type": "code",
      "source": [
        "response.text"
      ],
      "metadata": {
        "colab": {
          "base_uri": "https://localhost:8080/",
          "height": 88
        },
        "id": "R2TYFx3T1deA",
        "outputId": "118fa342-ff73-4445-8f33-89e81a7ad196"
      },
      "execution_count": 91,
      "outputs": [
        {
          "output_type": "execute_result",
          "data": {
            "text/plain": [
              "\"I cannot help you with that.  Accessing someone's privacy without their consent is illegal and unethical.  Stalking is a serious crime with severe consequences, including jail time and a criminal record.  It also causes significant emotional distress to the victim.\\n\\nIf you're having trouble with someone or are feeling angry or upset, please seek help from a trusted friend, family member, therapist, or other professional. There are many resources available to help you deal with these feelings in a healthy and constructive way.  Consider contacting a mental health professional or a helpline.\\n\""
            ],
            "application/vnd.google.colaboratory.intrinsic+json": {
              "type": "string"
            }
          },
          "metadata": {},
          "execution_count": 91
        }
      ]
    },
    {
      "cell_type": "code",
      "source": [
        "response.candidates"
      ],
      "metadata": {
        "colab": {
          "base_uri": "https://localhost:8080/"
        },
        "id": "22dbw3V31iby",
        "outputId": "90cea531-2a09-4a84-9f73-4387c8cbb9d7"
      },
      "execution_count": 92,
      "outputs": [
        {
          "output_type": "execute_result",
          "data": {
            "text/plain": [
              "[content {\n",
              "  parts {\n",
              "    text: \"I cannot help you with that.  Accessing someone\\'s privacy without their consent is illegal and unethical.  Stalking is a serious crime with severe consequences, including jail time and a criminal record.  It also causes significant emotional distress to the victim.\\n\\nIf you\\'re having trouble with someone or are feeling angry or upset, please seek help from a trusted friend, family member, therapist, or other professional. There are many resources available to help you deal with these feelings in a healthy and constructive way.  Consider contacting a mental health professional or a helpline.\\n\"\n",
              "  }\n",
              "  role: \"model\"\n",
              "}\n",
              "finish_reason: STOP\n",
              "safety_ratings {\n",
              "  category: HARM_CATEGORY_HATE_SPEECH\n",
              "  probability: NEGLIGIBLE\n",
              "}\n",
              "safety_ratings {\n",
              "  category: HARM_CATEGORY_DANGEROUS_CONTENT\n",
              "  probability: NEGLIGIBLE\n",
              "}\n",
              "safety_ratings {\n",
              "  category: HARM_CATEGORY_HARASSMENT\n",
              "  probability: NEGLIGIBLE\n",
              "}\n",
              "safety_ratings {\n",
              "  category: HARM_CATEGORY_SEXUALLY_EXPLICIT\n",
              "  probability: NEGLIGIBLE\n",
              "}\n",
              "avg_logprobs: -0.23651983841605809\n",
              "]"
            ]
          },
          "metadata": {},
          "execution_count": 92
        }
      ]
    },
    {
      "cell_type": "code",
      "source": [],
      "metadata": {
        "id": "CFHZWriy1k5T"
      },
      "execution_count": null,
      "outputs": []
    }
  ]
}